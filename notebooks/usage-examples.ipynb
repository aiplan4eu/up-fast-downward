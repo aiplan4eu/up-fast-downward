{
 "cells": [
  {
   "cell_type": "markdown",
   "id": "b5b9314f",
   "metadata": {},
   "source": [
    "# Using Fast Downward in the Unified Planning Library"
   ]
  },
  {
   "cell_type": "code",
   "execution_count": null,
   "id": "ada9e72e",
   "metadata": {},
   "outputs": [],
   "source": [
    "!pip install --pre unified-planning\n",
    "!pip install up_fast_downward"
   ]
  },
  {
   "cell_type": "code",
   "execution_count": null,
   "id": "c9a5ecb4",
   "metadata": {},
   "outputs": [],
   "source": [
    "import unified_planning\n",
    "import up_fast_downward\n",
    "from unified_planning.shortcuts import *\n",
    "from unified_planning.model.metrics import MinimizeSequentialPlanLength"
   ]
  },
  {
   "cell_type": "markdown",
   "id": "d477a8c2",
   "metadata": {},
   "source": [
    "## A simple example planning task"
   ]
  },
  {
   "cell_type": "markdown",
   "id": "255dfe2c",
   "metadata": {},
   "source": [
    "For illustration purposes, we randomly generate a planning task, where a single truck without capacity limit has to deliver a number of parcels between the locations of a graph."
   ]
  },
  {
   "cell_type": "code",
   "execution_count": null,
   "id": "81986c72",
   "metadata": {},
   "outputs": [],
   "source": [
    "import networkx as nx\n",
    "import matplotlib # uncomment if not available\n",
    "import random\n",
    "\n",
    "def generate_problem(num_locations, num_parcels):\n",
    "    # generate a random connected graph with the locations \n",
    "    graph = nx.connected_watts_strogatz_graph(num_locations, 4, 0.2)\n",
    "\n",
    "    # randomly choose the origin and destination of every parcel\n",
    "    jobs = []\n",
    "    for parcel in range(num_parcels):\n",
    "        origin = random.randrange(num_locations) \n",
    "        destination = random.choice([x for x in range(num_locations)\n",
    "                                     if x != origin])\n",
    "        jobs.append((origin, destination))\n",
    "\n",
    "\n",
    "    # randlomly choose a truck location\n",
    "    truck_location = random.randrange(num_locations)\n",
    "    return graph, jobs, truck_location\n",
    "\n",
    "num_locations = 15\n",
    "num_parcels = 25\n",
    "graph, jobs, truck_location = generate_problem(num_locations, num_parcels)\n",
    "\n",
    "nx.draw_networkx(graph, with_labels=True) # uncomment if you do not have matplotlib\n",
    "print(\"Jobs:\")\n",
    "for parcel_id, (origin, destination) in enumerate(jobs):\n",
    "    print('Parcel', parcel_id, 'from location', origin,\n",
    "          'to location', destination) \n",
    "print('The truck is at location', truck_location)"
   ]
  },
  {
   "cell_type": "markdown",
   "id": "ca37be80",
   "metadata": {},
   "source": [
    "The possible actions in the planning task are to move the truck from one location to a connected location, to load a parcel (if the truck is at the same location) and to unload the parcel at its destination location."
   ]
  },
  {
   "cell_type": "markdown",
   "id": "9c9edcbc",
   "metadata": {},
   "source": [
    "We use a unary predicate ``truck_at`` and a binary predicate ``parcel_at``, to represent the locations of the truck and all parcels. Unary predicates ``parcel_loaded`` and ``delivered`` express that a parcel is in the truck or has been delivered. The destinations of the parcels are represented with binary predicate ``destination`` and the connections (edges) with binary predicate ``connected``."
   ]
  },
  {
   "cell_type": "code",
   "execution_count": null,
   "id": "5d91f19c",
   "metadata": {},
   "outputs": [],
   "source": [
    "def get_planning_task(graph, jobs, truck_location):\n",
    "    num_parcels = len(jobs)\n",
    "    num_locations = len(graph)\n",
    "    # declare user types\n",
    "    Location = UserType('Location')\n",
    "    Parcel = UserType('Parcel')\n",
    "\n",
    "    # declare predicates\n",
    "    truck_at = unified_planning.model.Fluent('truck_at', BoolType(), l=Location)\n",
    "    parcel_at = unified_planning.model.Fluent('parcel_at', BoolType(), p=Parcel, l=Location)\n",
    "    parcel_loaded = unified_planning.model.Fluent('parcel_loaded', BoolType(), p=Parcel)\n",
    "    delivered = unified_planning.model.Fluent('delivered', BoolType(), p=Parcel)\n",
    "    destination = unified_planning.model.Fluent('destination', BoolType(), p=Parcel, l=Location)\n",
    "    connected = unified_planning.model.Fluent('connected', BoolType(), l_from=Location, l_to=Location)\n",
    "\n",
    "    # add (typed) objects to problem\n",
    "    problem = unified_planning.model.Problem('parcels')\n",
    "    locations = [unified_planning.model.Object('loc%s' % i, Location)\n",
    "                 for i in range(num_locations)]\n",
    "    parcels = [unified_planning.model.Object('parcel%s' % i, Parcel)\n",
    "               for i in range(num_parcels)]\n",
    "    problem.add_objects(locations)\n",
    "    problem.add_objects(parcels)\n",
    "\n",
    "    # specify the initial state\n",
    "    problem.add_fluent(truck_at, default_initial_value=False)\n",
    "    problem.add_fluent(parcel_at, default_initial_value=False)\n",
    "    problem.add_fluent(parcel_loaded, default_initial_value=False)\n",
    "    problem.add_fluent(delivered, default_initial_value=False)\n",
    "    problem.add_fluent(destination, default_initial_value=False)\n",
    "    problem.add_fluent(connected, default_initial_value=False)\n",
    "    for parcel_id, (origin, dest) in enumerate(jobs):\n",
    "        p = parcels[parcel_id]\n",
    "        problem.set_initial_value(parcel_at(p, locations[origin]), True)\n",
    "        problem.set_initial_value(destination(p, locations[dest]), True)\n",
    "    for (l1, l2) in graph.edges():\n",
    "        problem.set_initial_value(connected(locations[l1], locations[l2]), True)\n",
    "        problem.set_initial_value(connected(locations[l2], locations[l1]), True)\n",
    "    problem.set_initial_value(truck_at(locations[truck_location]), True)\n",
    "\n",
    "    # add actions\n",
    "    move = unified_planning.model.InstantaneousAction('move', l_from=Location, l_to=Location)\n",
    "    l_from = move.parameter('l_from')\n",
    "    l_to = move.parameter('l_to')\n",
    "    move.add_precondition(connected(l_from, l_to))\n",
    "    move.add_precondition(truck_at(l_from))\n",
    "    move.add_effect(truck_at(l_from), False)\n",
    "    move.add_effect(truck_at(l_to), True)\n",
    "    problem.add_action(move)\n",
    "\n",
    "    load = unified_planning.model.InstantaneousAction('load', p=Parcel, l=Location)\n",
    "    p = load.parameter('p')\n",
    "    loc = load.parameter('l')\n",
    "    load.add_precondition(truck_at(loc))\n",
    "    load.add_precondition(parcel_at(p, loc))\n",
    "    load.add_effect(parcel_at(p, loc), False)\n",
    "    load.add_effect(parcel_loaded(p), True)\n",
    "    problem.add_action(load)\n",
    "\n",
    "    unload = unified_planning.model.InstantaneousAction('unload', p=Parcel, l=Location)\n",
    "    p = unload.parameter('p')\n",
    "    loc = unload.parameter('l')\n",
    "    unload.add_precondition(truck_at(loc))\n",
    "    unload.add_precondition(parcel_loaded(p))\n",
    "    unload.add_precondition(destination(p, loc))\n",
    "    unload.add_effect(delivered(p), True)\n",
    "    unload.add_effect(parcel_loaded(p), False)\n",
    "    problem.add_action(unload)\n",
    "\n",
    "    # specify the goal: all parcels should have been delivered\n",
    "    for parcel_id, _ in enumerate(jobs):\n",
    "        p = parcels[parcel_id]\n",
    "        problem.add_goal(delivered(p))\n",
    "\n",
    "    # we only want to minimize the number of actions\n",
    "    problem.add_quality_metric(MinimizeSequentialPlanLength())\n",
    "    return problem\n",
    "\n",
    "problem = get_planning_task(graph, jobs, truck_location)"
   ]
  },
  {
   "cell_type": "markdown",
   "id": "6dd5ec7d",
   "metadata": {},
   "source": [
    "## Solving the task"
   ]
  },
  {
   "cell_type": "markdown",
   "id": "22987181",
   "metadata": {},
   "source": [
    "### Quickly solving the task"
   ]
  },
  {
   "cell_type": "markdown",
   "id": "dea56bc8",
   "metadata": {},
   "source": [
    "If we do not necessarily need an optimal plan (with respect to the metric specified in the task), we can use ``fast-downward`` in the oneshot operation mode. This is usually faster than seeking an optimal solution."
   ]
  },
  {
   "cell_type": "code",
   "execution_count": null,
   "id": "32e7a5f9",
   "metadata": {},
   "outputs": [],
   "source": [
    "with OneshotPlanner(name='fast-downward') as planner:\n",
    "    result = planner.solve(problem)\n",
    "    if result.status == up.engines.PlanGenerationResultStatus.SOLVED_SATISFICING:\n",
    "        print(\"Fast Downward returned: %s\" % result.plan)\n",
    "    else:\n",
    "        print(\"No plan found.\")"
   ]
  },
  {
   "cell_type": "code",
   "execution_count": null,
   "id": "0bc234cb",
   "metadata": {},
   "outputs": [],
   "source": [
    "# We do not want to see the credits again and again, so let's disable them from now on.\n",
    "up.shortcuts.get_environment().credits_stream = None"
   ]
  },
  {
   "cell_type": "markdown",
   "id": "4a29f4f1",
   "metadata": {},
   "source": [
    "### Solving the task optimally"
   ]
  },
  {
   "cell_type": "markdown",
   "id": "4c40b76b",
   "metadata": {},
   "source": [
    "Solving a task optimally can take substantially more time (intuitively, we do not only need to find a plan but also have to exclude that any other action sequence provides a better solution). Let's thus use a smaller example with 10 locations and 8 parcels."
   ]
  },
  {
   "cell_type": "code",
   "execution_count": null,
   "id": "565d18fb",
   "metadata": {},
   "outputs": [],
   "source": [
    "graph, jobs, truck_location = generate_problem(10, 8)\n",
    "small_problem = get_planning_task(graph, jobs, truck_location)"
   ]
  },
  {
   "cell_type": "markdown",
   "id": "3ff67c57",
   "metadata": {},
   "source": [
    "If we require an optimal plan, we can use the engine ``fast-downward-opt``. Note that you also see the optimality guarantee reflected in the result status."
   ]
  },
  {
   "cell_type": "code",
   "execution_count": null,
   "id": "9370c6ba",
   "metadata": {},
   "outputs": [],
   "source": [
    "with OneshotPlanner(name='fast-downward-opt') as planner:\n",
    "    result = planner.solve(small_problem)\n",
    "    if result.status == up.engines.PlanGenerationResultStatus.SOLVED_OPTIMALLY:\n",
    "        print(\"The optimal plan has length\", len(result.plan.actions))\n",
    "        print(result.plan)\n",
    "    else:\n",
    "        print(\"No plan found.\")"
   ]
  },
  {
   "cell_type": "markdown",
   "id": "c1266049",
   "metadata": {},
   "source": [
    "### Anytime mode: Finding better and better solutions"
   ]
  },
  {
   "cell_type": "markdown",
   "id": "35541ddf",
   "metadata": {},
   "source": [
    "The anytime operation mode returns found plans as intermediate results but continues searching for better plans. This might be a good option if you are interested in \"the best plan you can find within the available time\".\n",
    "\n",
    "(Solve the larger ``problem`` if you want to observe it continuing the search.)"
   ]
  },
  {
   "cell_type": "code",
   "execution_count": null,
   "id": "1200d0e8",
   "metadata": {},
   "outputs": [],
   "source": [
    "with AnytimePlanner(name='fast-downward') as planner:\n",
    "    for result in planner.get_solutions(small_problem): # you can try it on \"problem\" here\n",
    "        if result.status == up.engines.PlanGenerationResultStatus.INTERMEDIATE:\n",
    "            print(\"Found an intermediate plan of length:\", len(result.plan.actions))\n",
    "            print(\"Continue searching...\")\n",
    "        elif result.status in (up.engines.PlanGenerationResultStatus.SOLVED_SATISFICING,\n",
    "                               up.engines.PlanGenerationResultStatus.SOLVED_OPTIMALLY):\n",
    "            print(\"The final plan has length:\", len(result.plan.actions))\n",
    "            print(result.plan)\n",
    "        else:\n",
    "            print(\"No plan found.\")\n"
   ]
  },
  {
   "cell_type": "markdown",
   "id": "0a0896a3",
   "metadata": {},
   "source": [
    "### Advanced: Using alternative configurations"
   ]
  },
  {
   "cell_type": "markdown",
   "id": "1d4469b2",
   "metadata": {},
   "source": [
    "If you call the planner as seen in the previous examples, we use some predefined default configurations, which work well in general. This does not mean that it is the best possible configuration for your problem at hand and Fast Downward has a large number of heuristics and strategies implemented. For the details we refer to the documentation at the [Fast Downward homepage](https://www.fast-downward.org/). You can use all translator and search configurations also through the unified planning framework."
   ]
  },
  {
   "cell_type": "markdown",
   "id": "0c422877",
   "metadata": {},
   "source": [
    "##### Using a planner alias"
   ]
  },
  {
   "cell_type": "markdown",
   "id": "9438a80f",
   "metadata": {},
   "source": [
    "For some common configurations (that have participated in the international planning competition), Fast Downward provides short [aliases](https://www.fast-downward.org/IpcPlanners). You can specify them with the parameters ``fast_downward_alias`` (used for oneshot planning) and ``fast_downward_anytime_alias`` (used in anytime mode)."
   ]
  },
  {
   "cell_type": "markdown",
   "id": "2e44cd27",
   "metadata": {},
   "source": [
    "In this example, we use the portfolio configuration ``seq-sat-fdss-2`` for solving the task in anytime mode. Such portfolio configurations are mostly intended for solving harder tasks and distribute the overall time among several subconfigurations. For this reason they require a search time limit, which we also provide. Note that the built-in portfolios are optimized for the 30 minutes time limit used in the planning competition (permitting significant precomputation), so not all of them will work well with short time limits."
   ]
  },
  {
   "cell_type": "code",
   "execution_count": null,
   "id": "3a6155bb",
   "metadata": {},
   "outputs": [],
   "source": [
    "params = {\n",
    "    'fast_downward_anytime_alias': 'seq-sat-fdss-2',\n",
    "    'fast_downward_search_time_limit': \"20s\"\n",
    "}\n",
    "\n",
    "with AnytimePlanner(name='fast-downward', params=params) as planner:\n",
    "    for result in planner.get_solutions(small_problem): # you can try it on \"problem\" here\n",
    "        if result.status == up.engines.PlanGenerationResultStatus.INTERMEDIATE:\n",
    "            print(\"Found an intermediate plan of length:\", len(result.plan.actions))\n",
    "            print(\"Continue searching...\")\n",
    "        elif result.status == up.engines.PlanGenerationResultStatus.SOLVED_SATISFICING:\n",
    "            print(\"The final plan has length:\", len(result.plan.actions))\n",
    "            print(result.plan)\n",
    "        else:\n",
    "            print(\"No plan found.\")"
   ]
  },
  {
   "cell_type": "markdown",
   "id": "8f72ff8c",
   "metadata": {},
   "source": [
    "#### Using translator options and search configurations"
   ]
  },
  {
   "cell_type": "markdown",
   "id": "e073519e",
   "metadata": {},
   "source": [
    "Instead of using a preset alias, we can also run Fast Downward with any configuration from it configuration space. Internally Fast Downward first translates the task to a normalized Finite Domain Representation and afterwards runs the search.\n",
    "\n",
    "There are not too many options for the translator component, as you can see from its (internal) documentation:\n",
    "```\n",
    "usage: translate.py [-h] [--relaxed] [--full-encoding]\n",
    "                    [--invariant-generation-max-candidates INVARIANT_GENERATION_MAX_CANDIDATES]\n",
    "                    [--sas-file SAS_FILE]\n",
    "                    [--invariant-generation-max-time INVARIANT_GENERATION_MAX_TIME]\n",
    "                    [--add-implied-preconditions] [--keep-unreachable-facts]\n",
    "                    [--skip-variable-reordering] [--keep-unimportant-variables]\n",
    "                    [--dump-task] [--layer-strategy {min,max}]\n",
    "                    domain task\n",
    "```\n",
    "\n",
    "In the UP, you can set these options via the parameter ``fast_downward_translate_options``.\n",
    "\n",
    "The configuration space for the search component is much larger and can can be set with ``fast_downward_search_config`` (for oneshot planning) and ``fast_downward_anytime_search_config`` (for anytime planning) respectively."
   ]
  },
  {
   "cell_type": "markdown",
   "id": "979c63a6",
   "metadata": {},
   "source": [
    "For an example, we stick to propsitional variables in the translator (skipping the invariant synthesis by setting the number of candidates to 0) and run an [eager greedy best-first search](https://www.fast-downward.org/Doc/SearchEngine#Greedy_search_.28eager.29) with the [FF heuristic](https://www.fast-downward.org/Doc/Evaluator#FF_heuristic) (both for heuristic guidance and preferred operators)."
   ]
  },
  {
   "cell_type": "code",
   "execution_count": null,
   "id": "f151ccd8",
   "metadata": {},
   "outputs": [],
   "source": [
    "params = {\n",
    "    'fast_downward_translate_options': ['--invariant-generation-max-candidates', '0'],\n",
    "    'fast_downward_search_config': 'let(hff,ff(),eager_greedy([hff],preferred=[hff]))'\n",
    "}\n",
    "\n",
    "with OneshotPlanner(name='fast-downward', params=params) as planner:\n",
    "    result = planner.solve(problem, output_stream=sys.stdout)\n",
    "    if result.status == up.engines.PlanGenerationResultStatus.SOLVED_SATISFICING:\n",
    "        print(\"Found an plan of length:\", len(result.plan.actions))\n",
    "\n",
    "        print(result.plan)\n",
    "    else:\n",
    "        print(\"No plan found.\")\n"
   ]
  },
  {
   "cell_type": "markdown",
   "id": "909b4bcf",
   "metadata": {},
   "source": [
    "### Troubleshooting"
   ]
  },
  {
   "cell_type": "markdown",
   "id": "cafbf1cb",
   "metadata": {
    "slideshow": {
     "slide_type": "slide"
    }
   },
   "source": [
    "If the planner does not behave at expected, you can inspect its log. You can access it via the ``output_stream`` parameter of ``solve``. You can also set the log level with ``log_level`` in the constructor (possible values are ``debug``, ``info`` (default) and ``warning``)."
   ]
  },
  {
   "cell_type": "code",
   "execution_count": null,
   "id": "81bdd504",
   "metadata": {},
   "outputs": [],
   "source": [
    "with OneshotPlanner(name='fast-downward', params={'log_level': 'info'}) as planner:\n",
    "    result = planner.solve(problem, output_stream=sys.stdout)\n",
    "    if result.status == up.engines.PlanGenerationResultStatus.SOLVED_SATISFICING:\n",
    "        print(\"Fast Downward returned: %s\" % result.plan)\n",
    "    else:\n",
    "        print(\"No plan found.\")"
   ]
  },
  {
   "cell_type": "markdown",
   "id": "895d732f",
   "metadata": {},
   "source": [
    "The output that you just have seen (hopefully) does not contain any errors. Let's create an actual issue. The heuristic used by the *optimal* engine does not support all features you can model in the unified planning library. Have a look at the goal specification of the problem:"
   ]
  },
  {
   "cell_type": "code",
   "execution_count": null,
   "id": "978719f1",
   "metadata": {},
   "outputs": [],
   "source": [
    "print(small_problem.goals)"
   ]
  },
  {
   "cell_type": "markdown",
   "id": "9e54c12b",
   "metadata": {},
   "source": [
    "We listed all parcels and required for each individual one that it has been delivered. Instead, we could use a quantified condition, expressing that all parcels should be delivered. Let's make this modification to the problem."
   ]
  },
  {
   "cell_type": "code",
   "execution_count": null,
   "id": "8022a790",
   "metadata": {},
   "outputs": [],
   "source": [
    "small_problem.clear_goals()\n",
    "p = Variable(\"parcel\", small_problem.user_type(\"Parcel\"))\n",
    "delivered = small_problem.fluent(\"delivered\")\n",
    "small_problem.add_goal(Forall(delivered(p), p))\n",
    "print(small_problem.goals)"
   ]
  },
  {
   "cell_type": "markdown",
   "id": "a62eca3b",
   "metadata": {},
   "source": [
    "This modified problem cannot be solved with the optimal engine:"
   ]
  },
  {
   "cell_type": "code",
   "execution_count": null,
   "id": "62f3f4fe",
   "metadata": {},
   "outputs": [],
   "source": [
    "with OneshotPlanner(name='fast-downward-opt') as planner:\n",
    "    result = planner.solve(small_problem, output_stream=sys.stdout)\n",
    "    if result.status == up.engines.PlanGenerationResultStatus.SOLVED_OPTIMALLY:\n",
    "        print(\"Fast Downward returned: %s\" % result.plan)\n",
    "    else:\n",
    "        print(result.status)\n",
    "        print(\"No plan found.\")"
   ]
  },
  {
   "cell_type": "markdown",
   "id": "8f2210fc",
   "metadata": {},
   "source": [
    "We see that the ``result.status`` is ``PlanGenerationResultStatus.INTERNAL_ERROR``. Looking at the log, we see that we ``Tried to use unsupported feature``. The sentence ``This configuration does not support axioms!`` indicates the details but these are admittedly not obvious (Fast Downward internally replaces all-quantified goals with axioms)."
   ]
  },
  {
   "cell_type": "markdown",
   "id": "b41b0c79",
   "metadata": {},
   "source": [
    "To nevertheless use the optimal engine on this task, we can combine it with a compiler from the unified planning library, which removes quantifications:"
   ]
  },
  {
   "cell_type": "code",
   "execution_count": null,
   "id": "f5707bdd",
   "metadata": {},
   "outputs": [],
   "source": [
    "with Compiler(\n",
    "        problem_kind = small_problem.kind, \n",
    "        compilation_kind = CompilationKind.QUANTIFIERS_REMOVING\n",
    "    ) as quantifiers_remover:\n",
    "    qr_result = quantifiers_remover.compile(\n",
    "        small_problem, \n",
    "        CompilationKind.QUANTIFIERS_REMOVING\n",
    "    )\n",
    "    transformed_problem = qr_result.problem\n",
    "    \n",
    "    with OneshotPlanner(name='fast-downward-opt') as planner:\n",
    "        result = planner.solve(transformed_problem)\n",
    "        if result.status == up.engines.PlanGenerationResultStatus.SOLVED_OPTIMALLY:\n",
    "            print(\"Fast Downward returned: %s\" % result.plan)\n",
    "        else:\n",
    "            print(result.status)\n",
    "            print(\"No plan found.\")\n",
    "    "
   ]
  },
  {
   "cell_type": "markdown",
   "id": "e45ab282",
   "metadata": {},
   "source": [
    "## Grounding"
   ]
  },
  {
   "cell_type": "markdown",
   "id": "fb29da35",
   "metadata": {},
   "source": [
    "Fast Downward also provides the compilation operation mode for grounding. Internally, Fast Downward does not only ground the instance but also normalizes the actions into a certain syntactic form. We provide two variants:\n",
    "- The ``fast-downward-reachability-grounder`` uses the reachability analysis of Fast Downward to determine what actions needs to be instantiated but preserves their structure.\n",
    "- The ``FastDownwardGrounder`` returns the normalized grounded task as used within Fast Downward.\n"
   ]
  },
  {
   "cell_type": "markdown",
   "id": "e8cdb4a8",
   "metadata": {},
   "source": [
    "**Important advice**: Do *not* ground the task with the UP and afterwards solve it with the FastDownard solver engines. Some parts of Fast Downward (the invariant synthesis) are much faster with a schematic representation of operators."
   ]
  },
  {
   "cell_type": "markdown",
   "id": "632a2b4c",
   "metadata": {},
   "source": [
    "To illustrate how the grounders are used, we create a really small problem (the ground problem is exponentially larger and we want to keep output readable)."
   ]
  },
  {
   "cell_type": "code",
   "execution_count": null,
   "id": "b091603e",
   "metadata": {},
   "outputs": [],
   "source": [
    "tiny_graph, tiny_jobs, tiny_truck_location = generate_problem(4, 2) # 4 locations, 2 parcels\n",
    "tiny_problem = get_planning_task(tiny_graph, tiny_jobs, tiny_truck_location)\n",
    "nx.draw_networkx(tiny_graph, with_labels=True) # uncomment if you do not have matplotlib\n",
    "print(\"Jobs:\")\n",
    "for parcel_id, (origin, destination) in enumerate(tiny_jobs):\n",
    "    print('Parcel', parcel_id, 'from location', origin,\n",
    "          'to location', destination) \n",
    "print('The truck is at location', tiny_truck_location)"
   ]
  },
  {
   "cell_type": "code",
   "execution_count": null,
   "id": "a2081290",
   "metadata": {},
   "outputs": [],
   "source": [
    "with Compiler(name = \"fast-downward-reachability-grounder\") as grounder:\n",
    "    grounder_result = grounder.compile(\n",
    "        tiny_problem, \n",
    "        CompilationKind.GROUNDING\n",
    "    )\n",
    "    ground_problem = grounder_result.problem\n"
   ]
  },
  {
   "cell_type": "markdown",
   "id": "fdccfc60",
   "metadata": {},
   "source": [
    "If we now have a look at the actions of the ground problem, we see that the actions do not have parameters anymore but instead we have actions for the truckmovements between each two actions and loading and unloading each parcel at their respective origin and goal locations."
   ]
  },
  {
   "cell_type": "code",
   "execution_count": null,
   "id": "ca76f439",
   "metadata": {},
   "outputs": [],
   "source": [
    "print(ground_problem.actions)"
   ]
  },
  {
   "cell_type": "markdown",
   "id": "8d850f1f",
   "metadata": {},
   "source": [
    "We can now solve the ground problem and translate the plan back to one for the original problem:"
   ]
  },
  {
   "cell_type": "code",
   "execution_count": null,
   "id": "2b390c96",
   "metadata": {},
   "outputs": [],
   "source": [
    "with OneshotPlanner(name = \"fast-downward\") as planner:\n",
    "    ground_plan = planner.solve(ground_problem).plan\n",
    "print(\"We found the following plan for the ground instance:\")\n",
    "print(ground_plan)\n",
    "\n",
    "# Translate plan back to one for the original problem\n",
    "plan = ground_plan.replace_action_instances(grounder_result.map_back_action_instance)\n",
    "\n",
    "print(\"\\nThis corresponds to the following plan for the original problem:\")\n",
    "print(plan)\n",
    "\n",
    "# Verify that it is indeed a plan for the original problem, using the plan validator operation mode of the UP\n",
    "print(\"\\nCan we verify this?\")\n",
    "from unified_planning.engines import ValidationResultStatus\n",
    "with PlanValidator(problem_kind = tiny_problem.kind) as validator:\n",
    "    if validator.validate(tiny_problem, plan).status == ValidationResultStatus.VALID:\n",
    "        print(\"Yes!!\")\n",
    "    else:\n",
    "        print(\"No?!? This should not happen.\")"
   ]
  }
 ],
 "metadata": {
  "kernelspec": {
   "display_name": "up-fast-downward-env",
   "language": "python",
   "name": "up-fast-downward-env"
  },
  "language_info": {
   "codemirror_mode": {
    "name": "ipython",
    "version": 3
   },
   "file_extension": ".py",
   "mimetype": "text/x-python",
   "name": "python",
   "nbconvert_exporter": "python",
   "pygments_lexer": "ipython3",
   "version": "3.10.6"
  }
 },
 "nbformat": 4,
 "nbformat_minor": 5
}
