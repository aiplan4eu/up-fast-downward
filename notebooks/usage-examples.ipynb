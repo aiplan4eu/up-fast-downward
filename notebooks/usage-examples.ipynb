{
 "cells": [
  {
   "cell_type": "markdown",
   "id": "b5b9314f",
   "metadata": {},
   "source": [
    "# Using Fast Downward in the Unified Planning Library"
   ]
  },
  {
   "cell_type": "code",
   "execution_count": 1,
   "id": "ada9e72e",
   "metadata": {},
   "outputs": [],
   "source": [
    "!pip install --pre unified-planning\n",
    "!pip install up_fast_downward"
   ]
  },
  {
   "cell_type": "code",
   "execution_count": 2,
   "id": "c9a5ecb4",
   "metadata": {},
   "outputs": [],
   "source": [
    "import sys\n",
    "import unified_planning as up\n",
    "import up_fast_downward\n",
    "from unified_planning.shortcuts import *"
   ]
  },
  {
   "cell_type": "markdown",
   "id": "d477a8c2",
   "metadata": {},
   "source": [
    "## A simple example planning task"
   ]
  },
  {
   "cell_type": "markdown",
   "id": "255dfe2c",
   "metadata": {},
   "source": [
    "For illustration purposes, we randomly generate a planning task, where a single truck without capacity limit has to deliver a number of parcels between the locations of a graph."
   ]
  },
  {
   "cell_type": "code",
   "execution_count": 3,
   "id": "81986c72",
   "metadata": {},
   "outputs": [
    {
     "name": "stdout",
     "output_type": "stream",
     "text": [
      "Jobs:\n",
      "Parcel 0 from location 8 to location 12\n",
      "Parcel 1 from location 6 to location 9\n",
      "Parcel 2 from location 6 to location 14\n",
      "Parcel 3 from location 11 to location 8\n",
      "Parcel 4 from location 6 to location 13\n",
      "Parcel 5 from location 13 to location 11\n",
      "Parcel 6 from location 10 to location 12\n",
      "Parcel 7 from location 6 to location 5\n",
      "Parcel 8 from location 3 to location 2\n",
      "Parcel 9 from location 13 to location 6\n",
      "Parcel 10 from location 7 to location 6\n",
      "Parcel 11 from location 5 to location 3\n",
      "Parcel 12 from location 4 to location 8\n",
      "Parcel 13 from location 10 to location 3\n",
      "Parcel 14 from location 6 to location 2\n",
      "Parcel 15 from location 13 to location 9\n",
      "Parcel 16 from location 9 to location 2\n",
      "Parcel 17 from location 2 to location 13\n",
      "Parcel 18 from location 0 to location 12\n",
      "Parcel 19 from location 2 to location 3\n",
      "Parcel 20 from location 1 to location 5\n",
      "Parcel 21 from location 14 to location 10\n",
      "Parcel 22 from location 8 to location 4\n",
      "Parcel 23 from location 9 to location 8\n",
      "Parcel 24 from location 2 to location 11\n",
      "The truck is at location 4\n"
     ]
    },
    {
     "data": {
      "image/png": "[encoded data removed]",
      "text/plain": [
       "<Figure size 432x288 with 1 Axes>"
      ]
     },
     "metadata": {},
     "output_type": "display_data"
    }
   ],
   "source": [
    "import networkx as nx\n",
    "import matplotlib # uncomment if not available\n",
    "import random\n",
    "\n",
    "def generate_problem(num_locations, num_parcels):\n",
    "    # generate a random connected graph with the locations \n",
    "    graph = nx.connected_watts_strogatz_graph(num_locations, 4, 0.2)\n",
    "\n",
    "    # randomly choose the origin and destination of every parcel\n",
    "    jobs = []\n",
    "    for parcel in range(num_parcels):\n",
    "        origin = random.randrange(num_locations) \n",
    "        destination = random.choice([x for x in range(num_locations)\n",
    "                                     if x != origin])\n",
    "        jobs.append((origin, destination))\n",
    "\n",
    "\n",
    "    # randlomly choose a truck location\n",
    "    truck_location = random.randrange(num_locations)\n",
    "    return graph, jobs, truck_location\n",
    "\n",
    "num_locations = 15\n",
    "num_parcels = 25\n",
    "graph, jobs, truck_location = generate_problem(num_locations, num_parcels)\n",
    "\n",
    "nx.draw_networkx(graph, with_labels=True) # uncomment if you do not have matplotlib\n",
    "print(\"Jobs:\")\n",
    "for parcel_id, (origin, destination) in enumerate(jobs):\n",
    "    print('Parcel', parcel_id, 'from location', origin,\n",
    "          'to location', destination) \n",
    "print('The truck is at location', truck_location)"
   ]
  },
  {
   "cell_type": "markdown",
   "id": "ca37be80",
   "metadata": {},
   "source": [
    "The possible actions in the planning task are to move the truck from one location to a connected location, to load a parcel (if the truck is at the same location) and to unload the parcel at its destination location."
   ]
  },
  {
   "cell_type": "markdown",
   "id": "9c9edcbc",
   "metadata": {},
   "source": [
    "We use a unary predicate ``truck_at`` and a binary predicate ``parcel_at``, to represent the locations of the truck and all parcels. Unary predicates ``parcel_loaded`` and ``delivered`` express that a parcel is in the truck or has been delivered. The destinations of the parcels are represented with binary predicate ``destination`` and the connections (edges) with binary predicate ``connected``."
   ]
  },
  {
   "cell_type": "code",
   "execution_count": 4,
   "id": "5d91f19c",
   "metadata": {},
   "outputs": [],
   "source": [
    "def get_planning_task(graph, jobs, truck_location):\n",
    "    num_parcels = len(jobs)\n",
    "    num_locations = len(graph)\n",
    "    # declare user types\n",
    "    Location = UserType('Location')\n",
    "    Parcel = UserType('Parcel')\n",
    "\n",
    "    # declare predicates\n",
    "    truck_at = up.model.Fluent('truck_at', BoolType(), l=Location)\n",
    "    parcel_at = up.model.Fluent('parcel_at', BoolType(), p=Parcel, l=Location)\n",
    "    parcel_loaded = up.model.Fluent('parcel_loaded', BoolType(), p=Parcel)\n",
    "    delivered = up.model.Fluent('delivered', BoolType(), p=Parcel)\n",
    "    destination = up.model.Fluent('destination', BoolType(), p=Parcel, l=Location)\n",
    "    connected = up.model.Fluent('connected', BoolType(), l_from=Location, l_to=Location)\n",
    "\n",
    "    # add (typed) objects to problem\n",
    "    problem = up.model.Problem('parcels')\n",
    "    locations = [up.model.Object('loc%s' % i, Location)\n",
    "                 for i in range(num_locations)]\n",
    "    parcels = [up.model.Object('parcel%s' % i, Parcel)\n",
    "               for i in range(num_parcels)]\n",
    "    problem.add_objects(locations)\n",
    "    problem.add_objects(parcels)\n",
    "\n",
    "    # specify the initial state\n",
    "    problem.add_fluent(truck_at, default_initial_value=False)\n",
    "    problem.add_fluent(parcel_at, default_initial_value=False)\n",
    "    problem.add_fluent(parcel_loaded, default_initial_value=False)\n",
    "    problem.add_fluent(delivered, default_initial_value=False)\n",
    "    problem.add_fluent(destination, default_initial_value=False)\n",
    "    problem.add_fluent(connected, default_initial_value=False)\n",
    "    for parcel_id, (origin, dest) in enumerate(jobs):\n",
    "        p = parcels[parcel_id]\n",
    "        problem.set_initial_value(parcel_at(p, locations[origin]), True)\n",
    "        problem.set_initial_value(destination(p, locations[dest]), True)\n",
    "    for (l1, l2) in graph.edges():\n",
    "        problem.set_initial_value(connected(locations[l1], locations[l2]), True)\n",
    "        problem.set_initial_value(connected(locations[l2], locations[l1]), True)\n",
    "    problem.set_initial_value(truck_at(locations[truck_location]), True)\n",
    "\n",
    "    # add actions\n",
    "    move = up.model.InstantaneousAction('move', l_from=Location, l_to=Location)\n",
    "    l_from = move.parameter('l_from')\n",
    "    l_to = move.parameter('l_to')\n",
    "    move.add_precondition(connected(l_from, l_to))\n",
    "    move.add_precondition(truck_at(l_from))\n",
    "    move.add_effect(truck_at(l_from), False)\n",
    "    move.add_effect(truck_at(l_to), True)\n",
    "    problem.add_action(move)\n",
    "\n",
    "    load = up.model.InstantaneousAction('load', p=Parcel, l=Location)\n",
    "    p = load.parameter('p')\n",
    "    loc = load.parameter('l')\n",
    "    load.add_precondition(truck_at(loc))\n",
    "    load.add_precondition(parcel_at(p, loc))\n",
    "    load.add_effect(parcel_at(p, loc), False)\n",
    "    load.add_effect(parcel_loaded(p), True)\n",
    "    problem.add_action(load)\n",
    "\n",
    "    unload = up.model.InstantaneousAction('unload', p=Parcel, l=Location)\n",
    "    p = unload.parameter('p')\n",
    "    loc = unload.parameter('l')\n",
    "    unload.add_precondition(truck_at(loc))\n",
    "    unload.add_precondition(parcel_loaded(p))\n",
    "    unload.add_precondition(destination(p, loc))\n",
    "    unload.add_effect(delivered(p), True)\n",
    "    unload.add_effect(parcel_loaded(p), False)\n",
    "    problem.add_action(unload)\n",
    "\n",
    "    # specify the goal: all parcels should have been delivered\n",
    "    for parcel_id, _ in enumerate(jobs):\n",
    "        p = parcels[parcel_id]\n",
    "        problem.add_goal(delivered(p))\n",
    "\n",
    "    # we only want to minimize the number of actions\n",
    "    problem.add_quality_metric(MinimizeSequentialPlanLength())\n",
    "    return problem\n",
    "\n",
    "problem = get_planning_task(graph, jobs, truck_location)"
   ]
  },
  {
   "cell_type": "markdown",
   "id": "6dd5ec7d",
   "metadata": {},
   "source": [
    "## Solving the task"
   ]
  },
  {
   "cell_type": "markdown",
   "id": "22987181",
   "metadata": {},
   "source": [
    "### Quickly solving the task"
   ]
  },
  {
   "cell_type": "markdown",
   "id": "dea56bc8",
   "metadata": {},
   "source": [
    "If we do not necessarily need an optimal plan (with respect to the metric specified in the task), we can use ``fast-downward`` in the oneshot operation mode. This is usually faster than seeking an optimal solution."
   ]
  },
  {
   "cell_type": "code",
   "execution_count": 5,
   "id": "32e7a5f9",
   "metadata": {},
   "outputs": [
    {
     "name": "stdout",
     "output_type": "stream",
     "text": [
      "\u001b[96m\u001b[1mNOTE: To disable printing of planning engine credits, add this line to your code: `up.shortcuts.get_environment().credits_stream = None`\n",
      "\u001b[0m\u001b[96m  *** Credits ***\n",
      "\u001b[0m\u001b[96m  * In operation mode `OneshotPlanner` at line 1 of `/tmp/ipykernel_425646/4189950133.py`, \u001b[0m\u001b[96myou are using the following planning engine:\n",
      "\u001b[0m\u001b[96m  * Engine name: Fast Downward\n",
      "  * Developers:  Uni Basel team and contributors (cf. https://github.com/aibasel/downward/blob/main/README.md)\n",
      "\u001b[0m\u001b[96m  * Description: \u001b[0m\u001b[96mFast Downward is a domain-independent classical planning system.\u001b[0m\u001b[96m\n",
      "\u001b[0m\u001b[96m\n",
      "\u001b[0mFast Downward returned: [load(parcel12, loc4), move(loc4, loc14), load(parcel21, loc14), move(loc14, loc0), load(parcel18, loc0), move(loc0, loc1), load(parcel20, loc1), move(loc1, loc14), move(loc14, loc12), unload(parcel18, loc12), move(loc12, loc10), load(parcel6, loc10), unload(parcel21, loc10), load(parcel13, loc10), move(loc10, loc11), move(loc11, loc13), load(parcel9, loc13), load(parcel5, loc13), load(parcel15, loc13), move(loc13, loc11), unload(parcel5, loc11), load(parcel3, loc11), move(loc11, loc12), unload(parcel6, loc12), move(loc12, loc4), move(loc4, loc5), unload(parcel20, loc5), load(parcel11, loc5), move(loc5, loc7), load(parcel10, loc7), move(loc7, loc5), move(loc5, loc6), unload(parcel9, loc6), load(parcel7, loc6), load(parcel4, loc6), load(parcel2, loc6), load(parcel14, loc6), unload(parcel10, loc6), load(parcel1, loc6), move(loc6, loc5), unload(parcel7, loc5), move(loc5, loc4), move(loc4, loc14), unload(parcel2, loc14), move(loc14, loc12), move(loc12, loc11), move(loc11, loc13), unload(parcel4, loc13), move(loc13, loc2), load(parcel24, loc2), load(parcel19, loc2), load(parcel17, loc2), move(loc2, loc13), unload(parcel17, loc13), move(loc13, loc11), unload(parcel24, loc11), move(loc11, loc10), move(loc10, loc3), load(parcel8, loc3), unload(parcel19, loc3), unload(parcel13, loc3), unload(parcel11, loc3), move(loc3, loc2), unload(parcel8, loc2), unload(parcel14, loc2), move(loc2, loc3), move(loc3, loc8), unload(parcel3, loc8), load(parcel22, loc8), unload(parcel12, loc8), load(parcel0, loc8), move(loc8, loc9), load(parcel23, loc9), load(parcel16, loc9), unload(parcel15, loc9), unload(parcel1, loc9), move(loc9, loc11), move(loc11, loc12), unload(parcel0, loc12), move(loc12, loc4), unload(parcel22, loc4), move(loc4, loc2), unload(parcel16, loc2), move(loc2, loc3), move(loc3, loc8), unload(parcel23, loc8)]\n"
     ]
    }
   ],
   "source": [
    "with OneshotPlanner(name='fast-downward') as planner:\n",
    "    result = planner.solve(problem)\n",
    "    if result.status == up.engines.PlanGenerationResultStatus.SOLVED_SATISFICING:\n",
    "        print(\"Fast Downward returned: %s\" % result.plan)\n",
    "    else:\n",
    "        print(\"No plan found.\")"
   ]
  },
  {
   "cell_type": "code",
   "execution_count": 6,
   "id": "0bc234cb",
   "metadata": {},
   "outputs": [],
   "source": [
    "# We do not want to see the credits again and again, so let's disable them from now on.\n",
    "up.shortcuts.get_environment().credits_stream = None"
   ]
  },
  {
   "cell_type": "markdown",
   "id": "4a29f4f1",
   "metadata": {},
   "source": [
    "### Solving the task optimally (and using the ActionCostMetric)"
   ]
  },
  {
   "cell_type": "markdown",
   "id": "ceca3408",
   "metadata": {},
   "source": [
    "Solving a task optimally can take substantially more time (intuitively, we do not only need to find a plan but also have to exclude that any other action sequence provides a better solution). Let's thus use a smaller example with 10 locations and 8 parcels. To make it a bit more interesting, we use operator costs and make some connections more expensive to travel."
   ]
  },
  {
   "cell_type": "code",
   "execution_count": 7,
   "id": "2c87a759",
   "metadata": {},
   "outputs": [],
   "source": [
    "graph, jobs, truck_location = generate_problem(10, 8)\n",
    "small_problem = get_planning_task(graph, jobs, truck_location)\n",
    "\n",
    "expensive_edges = random.sample(list(graph.edges), 6)\n",
    "Location = small_problem.user_type(\"Location\")\n",
    "move_cost = up.model.Fluent(\"move_cost\", IntType(), from_loc=Location, to_loc=Location)\n",
    "small_problem.add_fluent(move_cost, default_initial_value=Int(1))\n",
    "for l1, l2 in expensive_edges:\n",
    "    loc1 = small_problem.object(\"loc%s\" % l1)\n",
    "    loc2 = small_problem.object(\"loc%s\" % l2)\n",
    "    small_problem.set_initial_value(move_cost(loc1, loc2), Int(3))\n",
    "    small_problem.set_initial_value(move_cost(loc2, loc1), Int(3))\n",
    "\n",
    "move = small_problem.action(\"move\")\n",
    "m = MinimizeActionCosts({move : move_cost(move.l_from, move.l_to)}, default=Int(1))\n",
    "small_problem.clear_quality_metrics()\n",
    "small_problem.add_quality_metric(m)"
   ]
  },
  {
   "cell_type": "markdown",
   "id": "3ff67c57",
   "metadata": {},
   "source": [
    "If we require an optimal plan, we can use the engine ``fast-downward-opt``. Note that you also see the optimality guarantee reflected in the result status."
   ]
  },
  {
   "cell_type": "code",
   "execution_count": 8,
   "id": "9370c6ba",
   "metadata": {},
   "outputs": [
    {
     "name": "stdout",
     "output_type": "stream",
     "text": [
      "I found the following optimal plan:\n",
      "[load(parcel7, loc1), move(loc1, loc0), unload(parcel7, loc0), load(parcel5, loc0), move(loc0, loc1), move(loc1, loc9), load(parcel6, loc9), load(parcel3, loc9), load(parcel1, loc9), move(loc9, loc8), load(parcel4, loc8), move(loc8, loc6), unload(parcel3, loc6), move(loc6, loc5), unload(parcel5, loc5), load(parcel2, loc5), move(loc5, loc2), unload(parcel1, loc2), move(loc2, loc4), unload(parcel6, loc4), unload(parcel2, loc4), move(loc4, loc3), load(parcel0, loc3), move(loc3, loc1), move(loc1, loc9), unload(parcel4, loc9), unload(parcel0, loc9)]\n"
     ]
    }
   ],
   "source": [
    "with OneshotPlanner(name='fast-downward-opt') as planner:\n",
    "    result = planner.solve(small_problem)\n",
    "    if result.status == up.engines.PlanGenerationResultStatus.SOLVED_OPTIMALLY:\n",
    "        print(\"I found the following optimal plan:\")\n",
    "        print(result.plan)\n",
    "    else:\n",
    "        print(\"No plan found.\")"
   ]
  },
  {
   "cell_type": "markdown",
   "id": "c1266049",
   "metadata": {},
   "source": [
    "### Anytime mode: Finding better and better solutions"
   ]
  },
  {
   "cell_type": "markdown",
   "id": "35541ddf",
   "metadata": {},
   "source": [
    "The anytime operation mode returns found plans as intermediate results but continues searching for better plans. This might be a good option if you are interested in \"the best plan you can find within the available time\".\n",
    "\n",
    "(Solve the larger ``problem`` if you want to observe it continuing the search.)"
   ]
  },
  {
   "cell_type": "code",
   "execution_count": 9,
   "id": "1200d0e8",
   "metadata": {},
   "outputs": [
    {
     "name": "stdout",
     "output_type": "stream",
     "text": [
      "Found an intermediate plan of cost 39\n",
      "Continue searching...\n",
      "Found an intermediate plan of cost 38\n",
      "Continue searching...\n",
      "Found an intermediate plan of cost 36\n",
      "Continue searching...\n",
      "Found an intermediate plan of cost 34\n",
      "Continue searching...\n",
      "Found an intermediate plan of cost 33\n",
      "Continue searching...\n",
      "Found an intermediate plan of cost 31\n",
      "Continue searching...\n",
      "Found an intermediate plan of cost 30\n",
      "Continue searching...\n",
      "Found an intermediate plan of cost 27\n",
      "Continue searching...\n",
      "The final plan has cost 27\n",
      "[load(parcel7, loc1), move(loc1, loc0), unload(parcel7, loc0), load(parcel5, loc0), move(loc0, loc1), move(loc1, loc9), load(parcel6, loc9), load(parcel3, loc9), load(parcel1, loc9), move(loc9, loc8), load(parcel4, loc8), move(loc8, loc6), unload(parcel3, loc6), move(loc6, loc5), unload(parcel5, loc5), load(parcel2, loc5), move(loc5, loc2), unload(parcel1, loc2), move(loc2, loc4), unload(parcel6, loc4), unload(parcel2, loc4), move(loc4, loc3), load(parcel0, loc3), move(loc3, loc1), move(loc1, loc9), unload(parcel4, loc9), unload(parcel0, loc9)]\n"
     ]
    }
   ],
   "source": [
    "problem_to_solve = small_problem # you can try it on \"problem\" here\n",
    "\n",
    "# We will use a plan validator to determine the plan costs for the output:\n",
    "pv = PlanValidator(problem_kind=problem_to_solve.kind)\n",
    "metric = problem_to_solve.quality_metrics[0]\n",
    "\n",
    "# Let's start the planner\n",
    "with AnytimePlanner(name='fast-downward') as planner:\n",
    "    for result in planner.get_solutions(problem_to_solve): \n",
    "        if result.status == up.engines.PlanGenerationResultStatus.INTERMEDIATE:\n",
    "            pv_res = pv.validate(problem_to_solve, result.plan)\n",
    "            print(\"Found an intermediate plan of cost\", pv_res.metric_evaluations[metric])\n",
    "            print(\"Continue searching...\")\n",
    "        elif result.status in (up.engines.PlanGenerationResultStatus.SOLVED_SATISFICING,\n",
    "                               up.engines.PlanGenerationResultStatus.SOLVED_OPTIMALLY):\n",
    "            pv_res = pv.validate(problem_to_solve, result.plan)\n",
    "            print(\"The final plan has cost\", pv_res.metric_evaluations[metric])\n",
    "            print(result.plan)\n",
    "        else:\n",
    "            print(\"No plan found.\")\n"
   ]
  },
  {
   "cell_type": "markdown",
   "id": "0a0896a3",
   "metadata": {},
   "source": [
    "### Advanced: Using alternative configurations"
   ]
  },
  {
   "cell_type": "markdown",
   "id": "1d4469b2",
   "metadata": {},
   "source": [
    "If you call the planner as seen in the previous examples, we use some predefined default configurations, which work well in general. This does not mean that it is the best possible configuration for your problem at hand and Fast Downward has a large number of heuristics and strategies implemented. For the details we refer to the documentation at the [Fast Downward homepage](https://www.fast-downward.org/). You can use all translator and search configurations also through the unified planning framework."
   ]
  },
  {
   "cell_type": "markdown",
   "id": "0c422877",
   "metadata": {},
   "source": [
    "##### Using a planner alias"
   ]
  },
  {
   "cell_type": "markdown",
   "id": "9438a80f",
   "metadata": {},
   "source": [
    "For some common configurations (that have participated in the international planning competition), Fast Downward provides short [aliases](https://www.fast-downward.org/IpcPlanners). You can specify them with the parameters ``fast_downward_alias`` (used for oneshot planning) and ``fast_downward_anytime_alias`` (used in anytime mode)."
   ]
  },
  {
   "cell_type": "markdown",
   "id": "2e44cd27",
   "metadata": {},
   "source": [
    "In this example, we use the portfolio configuration ``seq-sat-fdss-2`` for solving the task in anytime mode. Such portfolio configurations are mostly intended for solving harder tasks and distribute the overall time among several subconfigurations. For this reason they require a search time limit, which we also provide. Note that the built-in portfolios are optimized for the 30 minutes time limit used in the planning competition (permitting significant precomputation), so not all of them will work well with short time limits."
   ]
  },
  {
   "cell_type": "code",
   "execution_count": 10,
   "id": "3a6155bb",
   "metadata": {},
   "outputs": [
    {
     "name": "stdout",
     "output_type": "stream",
     "text": [
      "Found an intermediate plan of length: 32\n",
      "Continue searching...\n",
      "Found an intermediate plan of length: 32\n",
      "Continue searching...\n",
      "Found an intermediate plan of length: 34\n",
      "Continue searching...\n",
      "The final plan has length: 34\n",
      "[move(loc1, loc9), load(parcel6, loc9), load(parcel3, loc9), load(parcel1, loc9), move(loc9, loc1), load(parcel7, loc1), move(loc1, loc0), unload(parcel7, loc0), load(parcel5, loc0), move(loc0, loc2), move(loc2, loc4), unload(parcel6, loc4), move(loc4, loc5), unload(parcel5, loc5), load(parcel2, loc5), move(loc5, loc4), unload(parcel2, loc4), move(loc4, loc5), move(loc5, loc6), unload(parcel3, loc6), move(loc6, loc9), move(loc9, loc1), move(loc1, loc2), unload(parcel1, loc2), move(loc2, loc1), move(loc1, loc3), load(parcel0, loc3), move(loc3, loc1), move(loc1, loc9), unload(parcel0, loc9), move(loc9, loc8), load(parcel4, loc8), move(loc8, loc9), unload(parcel4, loc9)]\n"
     ]
    }
   ],
   "source": [
    "params = {\n",
    "    'fast_downward_anytime_alias': 'seq-sat-fdss-2',\n",
    "    'fast_downward_search_time_limit': \"20s\"\n",
    "}\n",
    "\n",
    "with AnytimePlanner(name='fast-downward', params=params) as planner:\n",
    "    for result in planner.get_solutions(small_problem): # you can try it on \"problem\" here\n",
    "        if result.status == up.engines.PlanGenerationResultStatus.INTERMEDIATE:\n",
    "            print(\"Found an intermediate plan of length:\", len(result.plan.actions))\n",
    "            print(\"Continue searching...\")\n",
    "        elif result.status == up.engines.PlanGenerationResultStatus.SOLVED_SATISFICING:\n",
    "            print(\"The final plan has length:\", len(result.plan.actions))\n",
    "            print(result.plan)\n",
    "        else:\n",
    "            print(\"No plan found.\")"
   ]
  },
  {
   "cell_type": "markdown",
   "id": "8f72ff8c",
   "metadata": {},
   "source": [
    "#### Using translator options and search configurations"
   ]
  },
  {
   "cell_type": "markdown",
   "id": "e073519e",
   "metadata": {},
   "source": [
    "Instead of using a preset alias, we can also run Fast Downward with any configuration from it configuration space. Internally Fast Downward first translates the task to a normalized Finite Domain Representation and afterwards runs the search.\n",
    "\n",
    "There are not too many options for the translator component, as you can see from its (internal) documentation:\n",
    "```\n",
    "usage: translate.py [-h] [--relaxed] [--full-encoding]\n",
    "                    [--invariant-generation-max-candidates INVARIANT_GENERATION_MAX_CANDIDATES]\n",
    "                    [--sas-file SAS_FILE]\n",
    "                    [--invariant-generation-max-time INVARIANT_GENERATION_MAX_TIME]\n",
    "                    [--add-implied-preconditions] [--keep-unreachable-facts]\n",
    "                    [--skip-variable-reordering] [--keep-unimportant-variables]\n",
    "                    [--dump-task] [--layer-strategy {min,max}]\n",
    "                    domain task\n",
    "```\n",
    "\n",
    "In the UP, you can set these options via the parameter ``fast_downward_translate_options``.\n",
    "\n",
    "The configuration space for the search component is much larger and can can be set with ``fast_downward_search_config`` (for oneshot planning) and ``fast_downward_anytime_search_config`` (for anytime planning) respectively."
   ]
  },
  {
   "cell_type": "markdown",
   "id": "979c63a6",
   "metadata": {},
   "source": [
    "For an example, we stick to propsitional variables in the translator (skipping the invariant synthesis by setting the number of candidates to 0) and run an [eager greedy best-first search](https://www.fast-downward.org/Doc/SearchEngine#Greedy_search_.28eager.29) with the [FF heuristic](https://www.fast-downward.org/Doc/Evaluator#FF_heuristic) (both for heuristic guidance and preferred operators)."
   ]
  },
  {
   "cell_type": "code",
   "execution_count": 11,
   "id": "f151ccd8",
   "metadata": {},
   "outputs": [
    {
     "name": "stdout",
     "output_type": "stream",
     "text": [
      "Found an plan of length: 92\n",
      "[load(parcel12, loc4), move(loc4, loc14), load(parcel21, loc14), move(loc14, loc0), load(parcel18, loc0), move(loc0, loc1), move(loc1, loc3), load(parcel8, loc3), move(loc3, loc10), load(parcel6, loc10), unload(parcel21, loc10), load(parcel13, loc10), move(loc10, loc11), move(loc11, loc13), load(parcel9, loc13), load(parcel5, loc13), load(parcel15, loc13), move(loc13, loc11), unload(parcel5, loc11), load(parcel3, loc11), move(loc11, loc12), unload(parcel6, loc12), unload(parcel18, loc12), move(loc12, loc4), move(loc4, loc5), load(parcel11, loc5), move(loc5, loc6), unload(parcel9, loc6), load(parcel7, loc6), load(parcel4, loc6), load(parcel2, loc6), load(parcel14, loc6), load(parcel1, loc6), move(loc6, loc5), unload(parcel7, loc5), move(loc5, loc7), load(parcel10, loc7), move(loc7, loc6), unload(parcel10, loc6), move(loc6, loc5), move(loc5, loc4), move(loc4, loc14), unload(parcel2, loc14), move(loc14, loc4), move(loc4, loc2), unload(parcel8, loc2), load(parcel24, loc2), load(parcel19, loc2), load(parcel17, loc2), move(loc2, loc13), unload(parcel4, loc13), unload(parcel17, loc13), move(loc13, loc11), unload(parcel24, loc11), move(loc11, loc10), move(loc10, loc3), unload(parcel19, loc3), unload(parcel13, loc3), unload(parcel11, loc3), move(loc3, loc2), unload(parcel14, loc2), move(loc2, loc1), load(parcel20, loc1), move(loc1, loc14), move(loc14, loc4), move(loc4, loc5), unload(parcel20, loc5), move(loc5, loc6), move(loc6, loc8), unload(parcel3, loc8), load(parcel22, loc8), unload(parcel12, loc8), load(parcel0, loc8), move(loc8, loc10), move(loc10, loc12), unload(parcel0, loc12), move(loc12, loc4), unload(parcel22, loc4), move(loc4, loc14), move(loc14, loc0), move(loc0, loc9), load(parcel23, loc9), move(loc9, loc8), unload(parcel23, loc8), move(loc8, loc9), load(parcel16, loc9), unload(parcel15, loc9), unload(parcel1, loc9), move(loc9, loc0), move(loc0, loc1), move(loc1, loc2), unload(parcel16, loc2)]\n"
     ]
    }
   ],
   "source": [
    "params = {\n",
    "    'fast_downward_translate_options': ['--invariant-generation-max-candidates', '0'],\n",
    "    'fast_downward_search_config': 'let(hff,ff(),eager_greedy([hff],preferred=[hff]))'\n",
    "}\n",
    "\n",
    "with OneshotPlanner(name='fast-downward', params=params) as planner:\n",
    "    result = planner.solve(problem)\n",
    "    if result.status == up.engines.PlanGenerationResultStatus.SOLVED_SATISFICING:\n",
    "        print(\"Found an plan of length:\", len(result.plan.actions))\n",
    "\n",
    "        print(result.plan)\n",
    "    else:\n",
    "        print(\"No plan found.\")\n"
   ]
  },
  {
   "cell_type": "markdown",
   "id": "909b4bcf",
   "metadata": {},
   "source": [
    "### Troubleshooting"
   ]
  },
  {
   "cell_type": "markdown",
   "id": "cafbf1cb",
   "metadata": {
    "slideshow": {
     "slide_type": "slide"
    }
   },
   "source": [
    "If the planner does not behave at expected, you can inspect its log. You can access it via the ``output_stream`` parameter of ``solve``. You can also set the log level with ``log_level`` in the constructor (possible values are ``debug``, ``info`` (default) and ``warning``)."
   ]
  },
  {
   "cell_type": "code",
   "execution_count": 12,
   "id": "81bdd504",
   "metadata": {},
   "outputs": [
    {
     "name": "stdout",
     "output_type": "stream",
     "text": [
      "INFO     planner time limit: None\n",
      "INFO     planner memory limit: None\n",
      "\n",
      "INFO     Running translator.\n",
      "INFO     translator stdin: None\n",
      "INFO     translator time limit: None\n",
      "INFO     translator memory limit: None\n",
      "INFO     translator command line string: /home/roeger/repos/downward/up-fast-downward-env/bin/python /home/roeger/repos/downward/up-fast-downward-env/lib/python3.10/site-packages/up_fast_downward/downward/builds/release/bin/translate/translate.py /tmp/tmpwd9o84z0/domain.pddl /tmp/tmpwd9o84z0/problem.pddl --sas-file output.sas\n",
      "Parsing...\n",
      "Parsing: [0.010s CPU, 0.005s wall-clock]\n",
      "Normalizing task... [0.000s CPU, 0.000s wall-clock]\n",
      "Instantiating...\n",
      "Generating Datalog program... [0.000s CPU, 0.002s wall-clock]\n",
      "Normalizing Datalog program...\n",
      "Normalizing Datalog program: [0.010s CPU, 0.003s wall-clock]\n",
      "Preparing model... [0.000s CPU, 0.003s wall-clock]\n",
      "Generated 14 rules.\n",
      "Computing model... [0.010s CPU, 0.008s wall-clock]\n",
      "406 relevant atoms\n",
      "180 auxiliary atoms\n",
      "586 final queue length\n",
      "632 total queue pushes\n",
      "Completing instantiation... [0.000s CPU, 0.007s wall-clock]\n",
      "Instantiating: [0.030s CPU, 0.022s wall-clock]\n",
      "Computing fact groups...\n",
      "Finding invariants...\n",
      "9 initial candidates\n",
      "Finding invariants: [0.000s CPU, 0.003s wall-clock]\n",
      "Checking invariant weight... [0.000s CPU, 0.002s wall-clock]\n",
      "Instantiating groups... [0.010s CPU, 0.009s wall-clock]\n",
      "Collecting mutex groups... [0.000s CPU, 0.000s wall-clock]\n",
      "Choosing groups...\n",
      "0 uncovered facts\n",
      "Choosing groups: [0.000s CPU, 0.001s wall-clock]\n",
      "Building translation key... [0.000s CPU, 0.000s wall-clock]\n",
      "Computing fact groups: [0.010s CPU, 0.017s wall-clock]\n",
      "Building STRIPS to SAS dictionary... [0.000s CPU, 0.000s wall-clock]\n",
      "Building dictionary for full mutex groups... [0.000s CPU, 0.000s wall-clock]\n",
      "Building mutex information...\n",
      "Building mutex information: [0.000s CPU, 0.000s wall-clock]\n",
      "Translating task...\n",
      "Processing axioms...\n",
      "Simplifying axioms... [0.000s CPU, 0.000s wall-clock]\n",
      "Translator axioms removed by simplifying: 0\n",
      "Computing negative axioms... [0.000s CPU, 0.000s wall-clock]\n",
      "Processing axioms: [0.000s CPU, 0.001s wall-clock]\n",
      "Translating task: [0.010s CPU, 0.008s wall-clock]\n",
      "0 effect conditions simplified\n",
      "0 implied preconditions added\n",
      "Detecting unreachable propositions...\n",
      "0 operators removed\n",
      "0 axioms removed\n",
      "26 propositions removed\n",
      "Detecting unreachable propositions: [0.000s CPU, 0.004s wall-clock]\n",
      "Reordering and filtering variables...\n",
      "26 of 26 variables necessary.\n",
      "0 of 51 mutex groups necessary.\n",
      "110 of 110 operators necessary.\n",
      "0 of 0 axiom rules necessary.\n",
      "Reordering and filtering variables: [0.010s CPU, 0.001s wall-clock]\n",
      "Translator variables: 26\n",
      "Translator derived variables: 0\n",
      "Translator facts: 90\n",
      "Translator goal facts: 25\n",
      "Translator mutex groups: 0\n",
      "Translator total mutex groups size: 0\n",
      "Translator operators: 110\n",
      "Translator axioms: 0\n",
      "Translator task size: 521\n",
      "Translator peak memory: 34500 KB\n",
      "Writing output... [0.000s CPU, 0.002s wall-clock]\n",
      "Done! [0.070s CPU, 0.061s wall-clock]\n",
      "translate exit code: 0\n",
      "\n",
      "INFO     Running search (release).\n",
      "INFO     search stdin: output.sas\n",
      "INFO     search time limit: None\n",
      "INFO     search memory limit: None\n",
      "INFO     search command line string: /home/roeger/repos/downward/up-fast-downward-env/lib/python3.10/site-packages/up_fast_downward/downward/builds/release/bin/downward --search 'let(hlm,landmark_sum(lm_factory=lm_reasonable_orders_hps(lm_rhw()),transform=adapt_costs(one),pref=false),let(hff,ff(transform=adapt_costs(one)),lazy_greedy([hff,hlm],preferred=[hff,hlm],cost_type=one,reopen_closed=false)))' --internal-plan-file /tmp/tmpwd9o84z0/plan.txt < output.sas\n",
      "[t=0.00684145s, 10984 KB] reading input...\n",
      "[t=0.00840405s, 10984 KB] done reading input!\n",
      "[t=0.015101s, 11240 KB] Initializing landmark sum heuristic...\n",
      "[t=0.015304s, 11240 KB] Generating landmark graph...\n",
      "[t=0.0153991s, 11240 KB] Building a landmark graph with reasonable orders.\n",
      "[t=0.0154833s, 11240 KB] Initializing Exploration...\n",
      "[t=0.0156247s, 11240 KB] Generating landmarks using the RPG/SAS+ approach\n",
      "[t=0.020723s, 11240 KB] Removed 0 reasonable or obedient reasonable orders\n",
      "[t=0.0208449s, 11240 KB] Landmarks generation time: 0.00545378s\n",
      "[t=0.0209164s, 11240 KB] Discovered 90 landmarks, of which 0 are disjunctive and 0 are conjunctive.\n",
      "[t=0.0209655s, 11240 KB] 163 edges\n",
      "[t=0.0210149s, 11240 KB] approx. reasonable orders\n",
      "[t=0.0215574s, 11240 KB] approx. obedient reasonable orders\n",
      "[t=0.0217277s, 11240 KB] Removed 0 reasonable or obedient reasonable orders\n",
      "[t=0.0217892s, 11240 KB] Landmarks generation time: 0.00647216s\n",
      "[t=0.0218465s, 11240 KB] Discovered 90 landmarks, of which 0 are disjunctive and 0 are conjunctive.\n",
      "[t=0.0218946s, 11240 KB] 165 edges\n",
      "[t=0.0219424s, 11240 KB] Landmark graph generation time: 0.0066843s\n",
      "[t=0.0219936s, 11240 KB] Landmark graph contains 90 landmarks, of which 0 are disjunctive and 0 are conjunctive.\n",
      "[t=0.0220382s, 11240 KB] Landmark graph contains 165 orderings.\n",
      "[t=0.0222892s, 11240 KB] Simplifying 110 unary operators... done! [110 unary operators]\n",
      "[t=0.0225537s, 11240 KB] time to simplify: 0.000352525s\n",
      "[t=0.0226726s, 11240 KB] Initializing additive heuristic...\n",
      "[t=0.0227296s, 11240 KB] Initializing FF heuristic...\n",
      "[t=0.0229158s, 11240 KB] Building successor generator...done!\n",
      "[t=0.023261s, 11240 KB] peak memory difference for successor generator creation: 0 KB\n",
      "[t=0.0233158s, 11240 KB] time for successor generation creation: 0.000149004s\n",
      "[t=0.0233727s, 11240 KB] Variables: 26\n",
      "[t=0.0234245s, 11240 KB] FactPairs: 90\n",
      "[t=0.0234722s, 11240 KB] Bytes per state: 8\n",
      "[t=0.02362s, 11240 KB] Conducting lazy best first search, (real) bound = 2147483647\n",
      "[t=0.0237446s, 11240 KB] 26 initial landmarks, 25 goal landmarks\n",
      "[t=0.0239129s, 11372 KB] New best heuristic value for landmark_sum(lm_factory=lm_reasonable_orders_hps(lm_rhw()),transform=adapt_costs(one),pref=false): 64\n",
      "[t=0.0239887s, 11372 KB] New best heuristic value for ff(transform=adapt_costs(one)): 64\n",
      "[t=0.0240414s, 11372 KB] g=0, 1 evaluated, 0 expanded\n",
      "[t=0.0241154s, 11372 KB] Initial heuristic value for landmark_sum(lm_factory=lm_reasonable_orders_hps(lm_rhw()),transform=adapt_costs(one),pref=false): 64\n",
      "[t=0.0241704s, 11372 KB] Initial heuristic value for ff(transform=adapt_costs(one)): 64\n",
      "[t=0.0245237s, 11372 KB] New best heuristic value for landmark_sum(lm_factory=lm_reasonable_orders_hps(lm_rhw()),transform=adapt_costs(one),pref=false): 63\n",
      "[t=0.0246048s, 11372 KB] New best heuristic value for ff(transform=adapt_costs(one)): 63\n",
      "[t=0.0246542s, 11372 KB] g=1, 6 evaluated, 5 expanded\n",
      "[t=0.025091s, 11372 KB] New best heuristic value for landmark_sum(lm_factory=lm_reasonable_orders_hps(lm_rhw()),transform=adapt_costs(one),pref=false): 62\n",
      "[t=0.0251562s, 11372 KB] New best heuristic value for ff(transform=adapt_costs(one)): 62\n",
      "[t=0.0252048s, 11372 KB] g=3, 15 evaluated, 14 expanded\n",
      "[t=0.0255077s, 11372 KB] New best heuristic value for landmark_sum(lm_factory=lm_reasonable_orders_hps(lm_rhw()),transform=adapt_costs(one),pref=false): 61\n",
      "[t=0.0255698s, 11372 KB] New best heuristic value for ff(transform=adapt_costs(one)): 61\n",
      "[t=0.0256175s, 11372 KB] g=5, 21 evaluated, 20 expanded\n",
      "[t=0.025712s, 11372 KB] New best heuristic value for landmark_sum(lm_factory=lm_reasonable_orders_hps(lm_rhw()),transform=adapt_costs(one),pref=false): 60\n",
      "[t=0.0257688s, 11372 KB] g=6, 22 evaluated, 21 expanded\n",
      "[t=0.0259945s, 11372 KB] New best heuristic value for ff(transform=adapt_costs(one)): 60\n",
      "[t=0.0260559s, 11372 KB] g=7, 26 evaluated, 25 expanded\n",
      "[t=0.0261559s, 11372 KB] New best heuristic value for landmark_sum(lm_factory=lm_reasonable_orders_hps(lm_rhw()),transform=adapt_costs(one),pref=false): 59\n",
      "[t=0.0262124s, 11372 KB] g=7, 27 evaluated, 26 expanded\n",
      "[t=0.0263938s, 11372 KB] New best heuristic value for landmark_sum(lm_factory=lm_reasonable_orders_hps(lm_rhw()),transform=adapt_costs(one),pref=false): 58\n",
      "[t=0.0264716s, 11372 KB] g=8, 30 evaluated, 29 expanded\n",
      "[t=0.0266617s, 11372 KB] New best heuristic value for ff(transform=adapt_costs(one)): 59\n",
      "[t=0.0267265s, 11372 KB] g=8, 32 evaluated, 31 expanded\n",
      "[t=0.0268813s, 11372 KB] New best heuristic value for ff(transform=adapt_costs(one)): 58\n",
      "[t=0.0269413s, 11372 KB] g=9, 34 evaluated, 33 expanded\n",
      "[t=0.0272174s, 11372 KB] New best heuristic value for landmark_sum(lm_factory=lm_reasonable_orders_hps(lm_rhw()),transform=adapt_costs(one),pref=false): 57\n",
      "[t=0.0272992s, 11372 KB] New best heuristic value for ff(transform=adapt_costs(one)): 57\n",
      "[t=0.0273494s, 11372 KB] g=10, 38 evaluated, 37 expanded\n",
      "[t=0.0277488s, 11372 KB] New best heuristic value for landmark_sum(lm_factory=lm_reasonable_orders_hps(lm_rhw()),transform=adapt_costs(one),pref=false): 56\n",
      "[t=0.0278247s, 11372 KB] New best heuristic value for ff(transform=adapt_costs(one)): 56\n",
      "[t=0.0278743s, 11372 KB] g=12, 46 evaluated, 45 expanded\n",
      "[t=0.0281939s, 11372 KB] New best heuristic value for landmark_sum(lm_factory=lm_reasonable_orders_hps(lm_rhw()),transform=adapt_costs(one),pref=false): 55\n",
      "[t=0.0282584s, 11372 KB] New best heuristic value for ff(transform=adapt_costs(one)): 55\n",
      "[t=0.0283094s, 11372 KB] g=13, 52 evaluated, 51 expanded\n",
      "[t=0.0286241s, 11372 KB] New best heuristic value for landmark_sum(lm_factory=lm_reasonable_orders_hps(lm_rhw()),transform=adapt_costs(one),pref=false): 54\n",
      "[t=0.0286877s, 11372 KB] New best heuristic value for ff(transform=adapt_costs(one)): 54\n",
      "[t=0.0287363s, 11372 KB] g=14, 58 evaluated, 57 expanded\n",
      "[t=0.0288366s, 11372 KB] New best heuristic value for landmark_sum(lm_factory=lm_reasonable_orders_hps(lm_rhw()),transform=adapt_costs(one),pref=false): 53\n",
      "[t=0.0288967s, 11372 KB] g=15, 59 evaluated, 58 expanded\n",
      "[t=0.0290828s, 11372 KB] New best heuristic value for ff(transform=adapt_costs(one)): 53\n",
      "[t=0.0291463s, 11372 KB] g=16, 62 evaluated, 61 expanded\n",
      "[t=0.0293849s, 11372 KB] New best heuristic value for landmark_sum(lm_factory=lm_reasonable_orders_hps(lm_rhw()),transform=adapt_costs(one),pref=false): 52\n",
      "[t=0.0294579s, 11372 KB] g=16, 65 evaluated, 64 expanded\n",
      "[t=0.0296502s, 11372 KB] New best heuristic value for ff(transform=adapt_costs(one)): 52\n",
      "[t=0.0297097s, 11372 KB] g=17, 68 evaluated, 67 expanded\n",
      "[t=0.0300606s, 11372 KB] New best heuristic value for landmark_sum(lm_factory=lm_reasonable_orders_hps(lm_rhw()),transform=adapt_costs(one),pref=false): 51\n",
      "[t=0.0301217s, 11372 KB] New best heuristic value for ff(transform=adapt_costs(one)): 51\n",
      "[t=0.0301688s, 11372 KB] g=18, 75 evaluated, 74 expanded\n",
      "[t=0.0304678s, 11372 KB] New best heuristic value for landmark_sum(lm_factory=lm_reasonable_orders_hps(lm_rhw()),transform=adapt_costs(one),pref=false): 50\n",
      "[t=0.0305524s, 11372 KB] New best heuristic value for ff(transform=adapt_costs(one)): 50\n",
      "[t=0.0306027s, 11372 KB] g=19, 79 evaluated, 78 expanded\n",
      "[t=0.0309946s, 11372 KB] New best heuristic value for landmark_sum(lm_factory=lm_reasonable_orders_hps(lm_rhw()),transform=adapt_costs(one),pref=false): 49\n",
      "[t=0.0310702s, 11372 KB] g=21, 86 evaluated, 85 expanded\n",
      "[t=0.0312499s, 11372 KB] New best heuristic value for ff(transform=adapt_costs(one)): 49\n",
      "[t=0.0313105s, 11372 KB] g=22, 89 evaluated, 88 expanded\n",
      "[t=0.0314946s, 11372 KB] New best heuristic value for landmark_sum(lm_factory=lm_reasonable_orders_hps(lm_rhw()),transform=adapt_costs(one),pref=false): 48\n",
      "[t=0.031557s, 11372 KB] g=22, 92 evaluated, 91 expanded\n",
      "[t=0.0317833s, 11372 KB] New best heuristic value for ff(transform=adapt_costs(one)): 48\n",
      "[t=0.0318454s, 11372 KB] g=23, 96 evaluated, 95 expanded\n",
      "[t=0.0321592s, 11372 KB] New best heuristic value for landmark_sum(lm_factory=lm_reasonable_orders_hps(lm_rhw()),transform=adapt_costs(one),pref=false): 47\n",
      "[t=0.0322219s, 11372 KB] g=24, 102 evaluated, 101 expanded\n",
      "[t=0.0325154s, 11372 KB] New best heuristic value for ff(transform=adapt_costs(one)): 47\n",
      "[t=0.0325759s, 11372 KB] g=26, 108 evaluated, 107 expanded\n",
      "[t=0.0330541s, 11372 KB] New best heuristic value for landmark_sum(lm_factory=lm_reasonable_orders_hps(lm_rhw()),transform=adapt_costs(one),pref=false): 46\n",
      "[t=0.0331308s, 11372 KB] New best heuristic value for ff(transform=adapt_costs(one)): 46\n",
      "[t=0.0331812s, 11372 KB] g=27, 117 evaluated, 116 expanded\n",
      "[t=0.033403s, 11372 KB] New best heuristic value for landmark_sum(lm_factory=lm_reasonable_orders_hps(lm_rhw()),transform=adapt_costs(one),pref=false): 45\n",
      "[t=0.0334652s, 11372 KB] New best heuristic value for ff(transform=adapt_costs(one)): 45\n",
      "[t=0.0335114s, 11372 KB] g=28, 121 evaluated, 120 expanded\n",
      "[t=0.0339314s, 11372 KB] New best heuristic value for ff(transform=adapt_costs(one)): 44\n",
      "[t=0.0339944s, 11372 KB] g=30, 129 evaluated, 128 expanded\n",
      "[t=0.0343471s, 11372 KB] New best heuristic value for landmark_sum(lm_factory=lm_reasonable_orders_hps(lm_rhw()),transform=adapt_costs(one),pref=false): 44\n",
      "[t=0.0344348s, 11372 KB] g=30, 136 evaluated, 133 expanded\n",
      "[t=0.0345677s, 11372 KB] New best heuristic value for landmark_sum(lm_factory=lm_reasonable_orders_hps(lm_rhw()),transform=adapt_costs(one),pref=false): 43\n",
      "[t=0.0346304s, 11372 KB] g=31, 138 evaluated, 134 expanded\n",
      "[t=0.0348167s, 11372 KB] New best heuristic value for ff(transform=adapt_costs(one)): 43\n",
      "[t=0.0348767s, 11372 KB] g=32, 142 evaluated, 136 expanded\n",
      "[t=0.035072s, 11372 KB] New best heuristic value for landmark_sum(lm_factory=lm_reasonable_orders_hps(lm_rhw()),transform=adapt_costs(one),pref=false): 42\n",
      "[t=0.0351347s, 11372 KB] New best heuristic value for ff(transform=adapt_costs(one)): 42\n",
      "[t=0.0351823s, 11372 KB] g=33, 145 evaluated, 139 expanded\n",
      "[t=0.0353719s, 11372 KB] New best heuristic value for landmark_sum(lm_factory=lm_reasonable_orders_hps(lm_rhw()),transform=adapt_costs(one),pref=false): 41\n",
      "[t=0.0354313s, 11372 KB] New best heuristic value for ff(transform=adapt_costs(one)): 41\n",
      "[t=0.0354792s, 11372 KB] g=34, 148 evaluated, 142 expanded\n",
      "[t=0.0356678s, 11372 KB] New best heuristic value for landmark_sum(lm_factory=lm_reasonable_orders_hps(lm_rhw()),transform=adapt_costs(one),pref=false): 40\n",
      "[t=0.0357281s, 11372 KB] New best heuristic value for ff(transform=adapt_costs(one)): 40\n",
      "[t=0.0357787s, 11372 KB] g=35, 151 evaluated, 145 expanded\n",
      "[t=0.0359655s, 11372 KB] New best heuristic value for landmark_sum(lm_factory=lm_reasonable_orders_hps(lm_rhw()),transform=adapt_costs(one),pref=false): 39\n",
      "[t=0.036025s, 11372 KB] New best heuristic value for ff(transform=adapt_costs(one)): 39\n",
      "[t=0.0360742s, 11372 KB] g=36, 154 evaluated, 148 expanded\n",
      "[t=0.0362578s, 11372 KB] New best heuristic value for landmark_sum(lm_factory=lm_reasonable_orders_hps(lm_rhw()),transform=adapt_costs(one),pref=false): 38\n",
      "[t=0.0363171s, 11372 KB] New best heuristic value for ff(transform=adapt_costs(one)): 38\n",
      "[t=0.0363655s, 11372 KB] g=37, 157 evaluated, 151 expanded\n",
      "[t=0.0365457s, 11372 KB] New best heuristic value for landmark_sum(lm_factory=lm_reasonable_orders_hps(lm_rhw()),transform=adapt_costs(one),pref=false): 37\n",
      "[t=0.0366056s, 11372 KB] New best heuristic value for ff(transform=adapt_costs(one)): 37\n",
      "[t=0.0366541s, 11372 KB] g=38, 160 evaluated, 154 expanded\n",
      "[t=0.0368291s, 11372 KB] New best heuristic value for landmark_sum(lm_factory=lm_reasonable_orders_hps(lm_rhw()),transform=adapt_costs(one),pref=false): 36\n",
      "[t=0.0368916s, 11372 KB] New best heuristic value for ff(transform=adapt_costs(one)): 36\n",
      "[t=0.036939s, 11372 KB] g=39, 163 evaluated, 157 expanded\n",
      "[t=0.0370313s, 11372 KB] New best heuristic value for landmark_sum(lm_factory=lm_reasonable_orders_hps(lm_rhw()),transform=adapt_costs(one),pref=false): 35\n",
      "[t=0.037089s, 11372 KB] g=40, 164 evaluated, 158 expanded\n",
      "[t=0.0373037s, 11372 KB] New best heuristic value for landmark_sum(lm_factory=lm_reasonable_orders_hps(lm_rhw()),transform=adapt_costs(one),pref=false): 34\n",
      "[t=0.0373636s, 11372 KB] New best heuristic value for ff(transform=adapt_costs(one)): 35\n",
      "[t=0.0374104s, 11372 KB] g=41, 168 evaluated, 162 expanded\n",
      "[t=0.0375022s, 11372 KB] New best heuristic value for landmark_sum(lm_factory=lm_reasonable_orders_hps(lm_rhw()),transform=adapt_costs(one),pref=false): 33\n",
      "[t=0.0375593s, 11372 KB] New best heuristic value for ff(transform=adapt_costs(one)): 34\n",
      "[t=0.0376064s, 11372 KB] g=42, 169 evaluated, 163 expanded\n",
      "[t=0.0380627s, 11372 KB] New best heuristic value for landmark_sum(lm_factory=lm_reasonable_orders_hps(lm_rhw()),transform=adapt_costs(one),pref=false): 32\n",
      "[t=0.03814s, 11372 KB] g=44, 179 evaluated, 173 expanded\n",
      "[t=0.0384162s, 11372 KB] New best heuristic value for landmark_sum(lm_factory=lm_reasonable_orders_hps(lm_rhw()),transform=adapt_costs(one),pref=false): 31\n",
      "[t=0.038493s, 11372 KB] New best heuristic value for ff(transform=adapt_costs(one)): 32\n",
      "[t=0.0385425s, 11372 KB] g=45, 183 evaluated, 177 expanded\n",
      "[t=0.038786s, 11372 KB] New best heuristic value for ff(transform=adapt_costs(one)): 31\n",
      "[t=0.0388574s, 11372 KB] g=47, 188 evaluated, 182 expanded\n",
      "[t=0.0391249s, 11372 KB] New best heuristic value for landmark_sum(lm_factory=lm_reasonable_orders_hps(lm_rhw()),transform=adapt_costs(one),pref=false): 30\n",
      "[t=0.0391883s, 11372 KB] New best heuristic value for ff(transform=adapt_costs(one)): 30\n",
      "[t=0.0392359s, 11372 KB] g=48, 192 evaluated, 186 expanded\n",
      "[t=0.0397086s, 11372 KB] New best heuristic value for landmark_sum(lm_factory=lm_reasonable_orders_hps(lm_rhw()),transform=adapt_costs(one),pref=false): 29\n",
      "[t=0.0397805s, 11372 KB] g=50, 202 evaluated, 196 expanded\n",
      "[t=0.0400006s, 11372 KB] New best heuristic value for ff(transform=adapt_costs(one)): 29\n",
      "[t=0.0400615s, 11372 KB] g=51, 206 evaluated, 200 expanded\n",
      "[t=0.0403605s, 11372 KB] New best heuristic value for landmark_sum(lm_factory=lm_reasonable_orders_hps(lm_rhw()),transform=adapt_costs(one),pref=false): 28\n",
      "[t=0.0404804s, 11372 KB] g=51, 211 evaluated, 205 expanded\n",
      "[t=0.0407045s, 11372 KB] New best heuristic value for ff(transform=adapt_costs(one)): 28\n",
      "[t=0.0407674s, 11372 KB] g=52, 215 evaluated, 209 expanded\n",
      "[t=0.0410164s, 11372 KB] New best heuristic value for landmark_sum(lm_factory=lm_reasonable_orders_hps(lm_rhw()),transform=adapt_costs(one),pref=false): 27\n",
      "[t=0.0410789s, 11372 KB] g=52, 220 evaluated, 214 expanded\n",
      "[t=0.0412554s, 11372 KB] New best heuristic value for ff(transform=adapt_costs(one)): 27\n",
      "[t=0.0413156s, 11372 KB] g=53, 223 evaluated, 217 expanded\n",
      "[t=0.0415649s, 11372 KB] New best heuristic value for landmark_sum(lm_factory=lm_reasonable_orders_hps(lm_rhw()),transform=adapt_costs(one),pref=false): 26\n",
      "[t=0.0416456s, 11372 KB] g=53, 228 evaluated, 222 expanded\n",
      "[t=0.0417463s, 11372 KB] New best heuristic value for ff(transform=adapt_costs(one)): 26\n",
      "[t=0.0418061s, 11372 KB] g=54, 229 evaluated, 223 expanded\n",
      "[t=0.0419324s, 11372 KB] New best heuristic value for landmark_sum(lm_factory=lm_reasonable_orders_hps(lm_rhw()),transform=adapt_costs(one),pref=false): 25\n",
      "[t=0.0419925s, 11372 KB] g=55, 231 evaluated, 225 expanded\n",
      "[t=0.0422837s, 11372 KB] New best heuristic value for landmark_sum(lm_factory=lm_reasonable_orders_hps(lm_rhw()),transform=adapt_costs(one),pref=false): 24\n",
      "[t=0.0423806s, 11372 KB] g=56, 237 evaluated, 231 expanded\n",
      "[t=0.0425373s, 11372 KB] New best heuristic value for ff(transform=adapt_costs(one)): 24\n",
      "[t=0.0426082s, 11372 KB] g=57, 239 evaluated, 233 expanded\n",
      "[t=0.0427054s, 11372 KB] New best heuristic value for landmark_sum(lm_factory=lm_reasonable_orders_hps(lm_rhw()),transform=adapt_costs(one),pref=false): 23\n",
      "[t=0.0427642s, 11372 KB] g=58, 240 evaluated, 234 expanded\n",
      "[t=0.0430843s, 11372 KB] New best heuristic value for landmark_sum(lm_factory=lm_reasonable_orders_hps(lm_rhw()),transform=adapt_costs(one),pref=false): 22\n",
      "[t=0.0431588s, 11372 KB] New best heuristic value for ff(transform=adapt_costs(one)): 23\n",
      "[t=0.043208s, 11372 KB] g=59, 246 evaluated, 240 expanded\n",
      "[t=0.0434278s, 11372 KB] New best heuristic value for landmark_sum(lm_factory=lm_reasonable_orders_hps(lm_rhw()),transform=adapt_costs(one),pref=false): 21\n",
      "[t=0.0434983s, 11372 KB] New best heuristic value for ff(transform=adapt_costs(one)): 22\n",
      "[t=0.0435465s, 11372 KB] g=60, 250 evaluated, 244 expanded\n",
      "[t=0.0437718s, 11372 KB] New best heuristic value for landmark_sum(lm_factory=lm_reasonable_orders_hps(lm_rhw()),transform=adapt_costs(one),pref=false): 20\n",
      "[t=0.0438403s, 11372 KB] New best heuristic value for ff(transform=adapt_costs(one)): 21\n",
      "[t=0.0438901s, 11372 KB] g=61, 254 evaluated, 248 expanded\n",
      "[t=0.0441676s, 11372 KB] New best heuristic value for landmark_sum(lm_factory=lm_reasonable_orders_hps(lm_rhw()),transform=adapt_costs(one),pref=false): 19\n",
      "[t=0.0442379s, 11372 KB] New best heuristic value for ff(transform=adapt_costs(one)): 20\n",
      "[t=0.0442873s, 11372 KB] g=62, 258 evaluated, 252 expanded\n",
      "[t=0.044415s, 11372 KB] New best heuristic value for landmark_sum(lm_factory=lm_reasonable_orders_hps(lm_rhw()),transform=adapt_costs(one),pref=false): 18\n",
      "[t=0.0444749s, 11372 KB] g=63, 260 evaluated, 254 expanded\n",
      "[t=0.0447166s, 11372 KB] New best heuristic value for landmark_sum(lm_factory=lm_reasonable_orders_hps(lm_rhw()),transform=adapt_costs(one),pref=false): 17\n",
      "[t=0.0447872s, 11372 KB] g=64, 265 evaluated, 259 expanded\n",
      "[t=0.0449652s, 11372 KB] New best heuristic value for ff(transform=adapt_costs(one)): 19\n",
      "[t=0.0450353s, 11372 KB] g=65, 268 evaluated, 262 expanded\n",
      "[t=0.0451961s, 11372 KB] New best heuristic value for landmark_sum(lm_factory=lm_reasonable_orders_hps(lm_rhw()),transform=adapt_costs(one),pref=false): 16\n",
      "[t=0.0452559s, 11372 KB] g=65, 271 evaluated, 265 expanded\n",
      "[t=0.0454531s, 11372 KB] New best heuristic value for ff(transform=adapt_costs(one)): 18\n",
      "[t=0.0455114s, 11372 KB] g=66, 275 evaluated, 269 expanded\n",
      "[t=0.0458234s, 11372 KB] New best heuristic value for landmark_sum(lm_factory=lm_reasonable_orders_hps(lm_rhw()),transform=adapt_costs(one),pref=false): 15\n",
      "[t=0.0458844s, 11372 KB] New best heuristic value for ff(transform=adapt_costs(one)): 17\n",
      "[t=0.0459316s, 11372 KB] g=68, 282 evaluated, 276 expanded\n",
      "[t=0.0461389s, 11372 KB] New best heuristic value for landmark_sum(lm_factory=lm_reasonable_orders_hps(lm_rhw()),transform=adapt_costs(one),pref=false): 14\n",
      "[t=0.0462094s, 11372 KB] New best heuristic value for ff(transform=adapt_costs(one)): 16\n",
      "[t=0.0462579s, 11372 KB] g=69, 286 evaluated, 280 expanded\n",
      "[t=0.0465076s, 11372 KB] New best heuristic value for landmark_sum(lm_factory=lm_reasonable_orders_hps(lm_rhw()),transform=adapt_costs(one),pref=false): 13\n",
      "[t=0.0465862s, 11372 KB] New best heuristic value for ff(transform=adapt_costs(one)): 15\n",
      "[t=0.0466363s, 11372 KB] g=70, 290 evaluated, 284 expanded\n",
      "[t=0.0468368s, 11372 KB] New best heuristic value for landmark_sum(lm_factory=lm_reasonable_orders_hps(lm_rhw()),transform=adapt_costs(one),pref=false): 12\n",
      "[t=0.0469071s, 11372 KB] New best heuristic value for ff(transform=adapt_costs(one)): 14\n",
      "[t=0.0469556s, 11372 KB] g=71, 294 evaluated, 288 expanded\n",
      "[t=0.0472538s, 11372 KB] New best heuristic value for landmark_sum(lm_factory=lm_reasonable_orders_hps(lm_rhw()),transform=adapt_costs(one),pref=false): 11\n",
      "[t=0.0473154s, 11372 KB] g=73, 301 evaluated, 295 expanded\n",
      "[t=0.0474456s, 11372 KB] New best heuristic value for ff(transform=adapt_costs(one)): 13\n",
      "[t=0.0475149s, 11372 KB] g=74, 303 evaluated, 297 expanded\n",
      "[t=0.0477092s, 11372 KB] New best heuristic value for landmark_sum(lm_factory=lm_reasonable_orders_hps(lm_rhw()),transform=adapt_costs(one),pref=false): 10\n",
      "[t=0.047771s, 11372 KB] g=74, 307 evaluated, 301 expanded\n",
      "[t=0.047929s, 11372 KB] New best heuristic value for ff(transform=adapt_costs(one)): 12\n",
      "[t=0.0479877s, 11372 KB] g=75, 310 evaluated, 304 expanded\n",
      "[t=0.0481714s, 11372 KB] New best heuristic value for landmark_sum(lm_factory=lm_reasonable_orders_hps(lm_rhw()),transform=adapt_costs(one),pref=false): 9\n",
      "[t=0.0482404s, 11372 KB] g=75, 314 evaluated, 308 expanded\n",
      "[t=0.0483946s, 11372 KB] New best heuristic value for ff(transform=adapt_costs(one)): 11\n",
      "[t=0.0484555s, 11372 KB] g=76, 317 evaluated, 311 expanded\n",
      "[t=0.0486365s, 11372 KB] New best heuristic value for landmark_sum(lm_factory=lm_reasonable_orders_hps(lm_rhw()),transform=adapt_costs(one),pref=false): 8\n",
      "[t=0.0486949s, 11372 KB] g=76, 321 evaluated, 315 expanded\n",
      "[t=0.0488465s, 11372 KB] New best heuristic value for ff(transform=adapt_costs(one)): 10\n",
      "[t=0.0489147s, 11372 KB] g=77, 324 evaluated, 318 expanded\n",
      "[t=0.0490048s, 11372 KB] New best heuristic value for landmark_sum(lm_factory=lm_reasonable_orders_hps(lm_rhw()),transform=adapt_costs(one),pref=false): 7\n",
      "[t=0.0490619s, 11372 KB] New best heuristic value for ff(transform=adapt_costs(one)): 8\n",
      "[t=0.0491073s, 11372 KB] g=78, 325 evaluated, 319 expanded\n",
      "[t=0.0492631s, 11372 KB] New best heuristic value for landmark_sum(lm_factory=lm_reasonable_orders_hps(lm_rhw()),transform=adapt_costs(one),pref=false): 6\n",
      "[t=0.0493315s, 11372 KB] New best heuristic value for ff(transform=adapt_costs(one)): 7\n",
      "[t=0.0493793s, 11372 KB] g=79, 328 evaluated, 322 expanded\n",
      "[t=0.0495022s, 11372 KB] New best heuristic value for landmark_sum(lm_factory=lm_reasonable_orders_hps(lm_rhw()),transform=adapt_costs(one),pref=false): 5\n",
      "[t=0.0495694s, 11372 KB] g=80, 330 evaluated, 324 expanded\n",
      "[t=0.0496624s, 11372 KB] New best heuristic value for ff(transform=adapt_costs(one)): 6\n",
      "[t=0.0497188s, 11372 KB] g=81, 331 evaluated, 325 expanded\n",
      "[t=0.0498372s, 11372 KB] New best heuristic value for landmark_sum(lm_factory=lm_reasonable_orders_hps(lm_rhw()),transform=adapt_costs(one),pref=false): 4\n",
      "[t=0.0498941s, 11372 KB] g=81, 333 evaluated, 327 expanded\n",
      "[t=0.0500187s, 11372 KB] New best heuristic value for ff(transform=adapt_costs(one)): 5\n",
      "[t=0.0500855s, 11372 KB] g=82, 335 evaluated, 329 expanded\n",
      "[t=0.050173s, 11372 KB] New best heuristic value for landmark_sum(lm_factory=lm_reasonable_orders_hps(lm_rhw()),transform=adapt_costs(one),pref=false): 3\n",
      "[t=0.0502313s, 11372 KB] New best heuristic value for ff(transform=adapt_costs(one)): 4\n",
      "[t=0.0502787s, 11372 KB] g=82, 336 evaluated, 330 expanded\n",
      "[t=0.0504613s, 11372 KB] New best heuristic value for landmark_sum(lm_factory=lm_reasonable_orders_hps(lm_rhw()),transform=adapt_costs(one),pref=false): 2\n",
      "[t=0.0505418s, 11372 KB] New best heuristic value for ff(transform=adapt_costs(one)): 3\n",
      "[t=0.0505945s, 11372 KB] g=83, 338 evaluated, 332 expanded\n",
      "[t=0.0506822s, 11372 KB] New best heuristic value for ff(transform=adapt_costs(one)): 2\n",
      "[t=0.0507493s, 11372 KB] g=84, 339 evaluated, 333 expanded\n",
      "[t=0.0508365s, 11372 KB] New best heuristic value for landmark_sum(lm_factory=lm_reasonable_orders_hps(lm_rhw()),transform=adapt_costs(one),pref=false): 1\n",
      "[t=0.0508937s, 11372 KB] New best heuristic value for ff(transform=adapt_costs(one)): 1\n",
      "[t=0.0509406s, 11372 KB] g=85, 340 evaluated, 334 expanded\n",
      "[t=0.0510271s, 11372 KB] Solution found!\n",
      "[t=0.0510911s, 11372 KB] Actual search time: 0.0273173s\n",
      "load parcel12 loc4 (1)\n",
      "move loc4 loc14 (1)\n",
      "load parcel21 loc14 (1)\n",
      "move loc14 loc0 (1)\n",
      "load parcel18 loc0 (1)\n",
      "move loc0 loc1 (1)\n",
      "load parcel20 loc1 (1)\n",
      "move loc1 loc14 (1)\n",
      "move loc14 loc12 (1)\n",
      "unload parcel18 loc12 (1)\n",
      "move loc12 loc10 (1)\n",
      "load parcel6 loc10 (1)\n",
      "unload parcel21 loc10 (1)\n",
      "load parcel13 loc10 (1)\n",
      "move loc10 loc11 (1)\n",
      "move loc11 loc13 (1)\n",
      "load parcel9 loc13 (1)\n",
      "load parcel5 loc13 (1)\n",
      "load parcel15 loc13 (1)\n",
      "move loc13 loc11 (1)\n",
      "unload parcel5 loc11 (1)\n",
      "load parcel3 loc11 (1)\n",
      "move loc11 loc12 (1)\n",
      "unload parcel6 loc12 (1)\n",
      "move loc12 loc4 (1)\n",
      "move loc4 loc5 (1)\n",
      "unload parcel20 loc5 (1)\n",
      "load parcel11 loc5 (1)\n",
      "move loc5 loc7 (1)\n",
      "load parcel10 loc7 (1)\n",
      "move loc7 loc5 (1)\n",
      "move loc5 loc6 (1)\n",
      "unload parcel9 loc6 (1)\n",
      "load parcel7 loc6 (1)\n",
      "load parcel4 loc6 (1)\n",
      "load parcel2 loc6 (1)\n",
      "load parcel14 loc6 (1)\n",
      "unload parcel10 loc6 (1)\n",
      "load parcel1 loc6 (1)\n",
      "move loc6 loc5 (1)\n",
      "unload parcel7 loc5 (1)\n",
      "move loc5 loc4 (1)\n",
      "move loc4 loc14 (1)\n",
      "unload parcel2 loc14 (1)\n",
      "move loc14 loc12 (1)\n",
      "move loc12 loc11 (1)\n",
      "move loc11 loc13 (1)\n",
      "unload parcel4 loc13 (1)\n",
      "move loc13 loc2 (1)\n",
      "load parcel24 loc2 (1)\n",
      "load parcel19 loc2 (1)\n",
      "load parcel17 loc2 (1)\n",
      "move loc2 loc13 (1)\n",
      "unload parcel17 loc13 (1)\n",
      "move loc13 loc11 (1)\n",
      "unload parcel24 loc11 (1)\n",
      "move loc11 loc10 (1)\n",
      "move loc10 loc3 (1)\n",
      "load parcel8 loc3 (1)\n",
      "unload parcel19 loc3 (1)\n",
      "unload parcel13 loc3 (1)\n",
      "unload parcel11 loc3 (1)\n",
      "move loc3 loc2 (1)\n",
      "unload parcel8 loc2 (1)\n",
      "unload parcel14 loc2 (1)\n",
      "move loc2 loc3 (1)\n",
      "move loc3 loc8 (1)\n",
      "unload parcel3 loc8 (1)\n",
      "load parcel22 loc8 (1)\n",
      "unload parcel12 loc8 (1)\n",
      "load parcel0 loc8 (1)\n",
      "move loc8 loc9 (1)\n",
      "load parcel23 loc9 (1)\n",
      "load parcel16 loc9 (1)\n",
      "unload parcel15 loc9 (1)\n",
      "unload parcel1 loc9 (1)\n",
      "move loc9 loc11 (1)\n",
      "move loc11 loc12 (1)\n",
      "unload parcel0 loc12 (1)\n",
      "move loc12 loc4 (1)\n",
      "unload parcel22 loc4 (1)\n",
      "move loc4 loc2 (1)\n",
      "unload parcel16 loc2 (1)\n",
      "move loc2 loc3 (1)\n",
      "move loc3 loc8 (1)\n",
      "unload parcel23 loc8 (1)\n",
      "[t=0.0511446s, 11372 KB] Plan length: 86 step(s).\n",
      "[t=0.0511446s, 11372 KB] Plan cost: 86\n",
      "[t=0.0511446s, 11372 KB] Expanded 335 state(s).\n",
      "[t=0.0511446s, 11372 KB] Reopened 0 state(s).\n",
      "[t=0.0511446s, 11372 KB] Evaluated 341 state(s).\n",
      "[t=0.0511446s, 11372 KB] Evaluations: 682\n",
      "[t=0.0511446s, 11372 KB] Generated 1896 state(s).\n",
      "[t=0.0511446s, 11372 KB] Dead ends: 5 state(s).\n",
      "[t=0.0511446s, 11372 KB] Number of registered states: 341\n",
      "[t=0.0511446s, 11372 KB] Int hash set load factor: 341/512 = 0.666016\n",
      "[t=0.0511446s, 11372 KB] Int hash set resizes: 9\n",
      "[t=0.0511446s, 11372 KB] Search time: 0.0275271s\n",
      "[t=0.0511446s, 11372 KB] Total time: 0.0511446s\n",
      "Solution found.\n",
      "Peak memory: 11372 KB\n",
      "Remove intermediate file output.sas\n",
      "search exit code: 0\n",
      "\n",
      "INFO     Planner time: 0.34s\n",
      "Fast Downward returned: [load(parcel12, loc4), move(loc4, loc14), load(parcel21, loc14), move(loc14, loc0), load(parcel18, loc0), move(loc0, loc1), load(parcel20, loc1), move(loc1, loc14), move(loc14, loc12), unload(parcel18, loc12), move(loc12, loc10), load(parcel6, loc10), unload(parcel21, loc10), load(parcel13, loc10), move(loc10, loc11), move(loc11, loc13), load(parcel9, loc13), load(parcel5, loc13), load(parcel15, loc13), move(loc13, loc11), unload(parcel5, loc11), load(parcel3, loc11), move(loc11, loc12), unload(parcel6, loc12), move(loc12, loc4), move(loc4, loc5), unload(parcel20, loc5), load(parcel11, loc5), move(loc5, loc7), load(parcel10, loc7), move(loc7, loc5), move(loc5, loc6), unload(parcel9, loc6), load(parcel7, loc6), load(parcel4, loc6), load(parcel2, loc6), load(parcel14, loc6), unload(parcel10, loc6), load(parcel1, loc6), move(loc6, loc5), unload(parcel7, loc5), move(loc5, loc4), move(loc4, loc14), unload(parcel2, loc14), move(loc14, loc12), move(loc12, loc11), move(loc11, loc13), unload(parcel4, loc13), move(loc13, loc2), load(parcel24, loc2), load(parcel19, loc2), load(parcel17, loc2), move(loc2, loc13), unload(parcel17, loc13), move(loc13, loc11), unload(parcel24, loc11), move(loc11, loc10), move(loc10, loc3), load(parcel8, loc3), unload(parcel19, loc3), unload(parcel13, loc3), unload(parcel11, loc3), move(loc3, loc2), unload(parcel8, loc2), unload(parcel14, loc2), move(loc2, loc3), move(loc3, loc8), unload(parcel3, loc8), load(parcel22, loc8), unload(parcel12, loc8), load(parcel0, loc8), move(loc8, loc9), load(parcel23, loc9), load(parcel16, loc9), unload(parcel15, loc9), unload(parcel1, loc9), move(loc9, loc11), move(loc11, loc12), unload(parcel0, loc12), move(loc12, loc4), unload(parcel22, loc4), move(loc4, loc2), unload(parcel16, loc2), move(loc2, loc3), move(loc3, loc8), unload(parcel23, loc8)]\n"
     ]
    }
   ],
   "source": [
    "with OneshotPlanner(name='fast-downward', params={'log_level': 'info'}) as planner:\n",
    "    result = planner.solve(problem, output_stream=sys.stdout)\n",
    "    if result.status == up.engines.PlanGenerationResultStatus.SOLVED_SATISFICING:\n",
    "        print(\"Fast Downward returned: %s\" % result.plan)\n",
    "    else:\n",
    "        print(\"No plan found.\")"
   ]
  },
  {
   "cell_type": "markdown",
   "id": "895d732f",
   "metadata": {},
   "source": [
    "The output that you just have seen (hopefully) does not contain any errors. Let's create an actual issue. The heuristic used by the *optimal* engine does not support all features you can model in the unified planning library. Have a look at the goal specification of the problem:"
   ]
  },
  {
   "cell_type": "code",
   "execution_count": 13,
   "id": "978719f1",
   "metadata": {},
   "outputs": [
    {
     "name": "stdout",
     "output_type": "stream",
     "text": [
      "[delivered(parcel0), delivered(parcel1), delivered(parcel2), delivered(parcel3), delivered(parcel4), delivered(parcel5), delivered(parcel6), delivered(parcel7)]\n"
     ]
    }
   ],
   "source": [
    "print(small_problem.goals)"
   ]
  },
  {
   "cell_type": "markdown",
   "id": "9e54c12b",
   "metadata": {},
   "source": [
    "We listed all parcels and required for each individual one that it has been delivered. Instead, we could use a quantified condition, expressing that all parcels should be delivered. Let's make this modification to the problem."
   ]
  },
  {
   "cell_type": "code",
   "execution_count": 14,
   "id": "8022a790",
   "metadata": {},
   "outputs": [
    {
     "name": "stdout",
     "output_type": "stream",
     "text": [
      "[Forall (Parcel parcel) delivered(parcel)]\n"
     ]
    }
   ],
   "source": [
    "small_problem.clear_goals()\n",
    "p = up.model.Variable(\"parcel\", small_problem.user_type(\"Parcel\"))\n",
    "delivered = small_problem.fluent(\"delivered\")\n",
    "small_problem.add_goal(Forall(delivered(p), p))\n",
    "print(small_problem.goals)"
   ]
  },
  {
   "cell_type": "markdown",
   "id": "a62eca3b",
   "metadata": {},
   "source": [
    "This modified problem cannot be solved with the optimal engine:"
   ]
  },
  {
   "cell_type": "code",
   "execution_count": 15,
   "id": "62f3f4fe",
   "metadata": {},
   "outputs": [
    {
     "name": "stdout",
     "output_type": "stream",
     "text": [
      "INFO     planner time limit: None\n",
      "INFO     planner memory limit: None\n",
      "\n",
      "INFO     Running translator.\n",
      "INFO     translator stdin: None\n",
      "INFO     translator time limit: None\n",
      "INFO     translator memory limit: None\n",
      "INFO     translator command line string: /home/roeger/repos/downward/up-fast-downward-env/bin/python /home/roeger/repos/downward/up-fast-downward-env/lib/python3.10/site-packages/up_fast_downward/downward/builds/release/bin/translate/translate.py /tmp/tmp7chjfoti/domain.pddl /tmp/tmp7chjfoti/problem.pddl --sas-file output.sas\n",
      "Parsing...\n",
      "Parsing: [0.000s CPU, 0.006s wall-clock]\n",
      "Normalizing task... [0.000s CPU, 0.000s wall-clock]\n",
      "Instantiating...\n",
      "Generating Datalog program... [0.000s CPU, 0.001s wall-clock]\n",
      "Normalizing Datalog program...\n",
      "Trivial rules: Converted to facts.\n",
      "Normalizing Datalog program: [0.010s CPU, 0.003s wall-clock]\n",
      "Preparing model... [0.000s CPU, 0.002s wall-clock]\n",
      "Generated 15 rules.\n",
      "Computing model... [0.000s CPU, 0.005s wall-clock]\n",
      "202 relevant atoms\n",
      "94 auxiliary atoms\n",
      "296 final queue length\n",
      "334 total queue pushes\n",
      "Completing instantiation... [0.010s CPU, 0.004s wall-clock]\n",
      "Instantiating: [0.020s CPU, 0.016s wall-clock]\n",
      "Computing fact groups...\n",
      "Finding invariants...\n",
      "9 initial candidates\n",
      "Finding invariants: [0.000s CPU, 0.003s wall-clock]\n",
      "Checking invariant weight... [0.000s CPU, 0.001s wall-clock]\n",
      "Instantiating groups... [0.000s CPU, 0.002s wall-clock]\n",
      "Collecting mutex groups... [0.000s CPU, 0.000s wall-clock]\n",
      "Choosing groups...\n",
      "1 uncovered facts\n",
      "Choosing groups: [0.000s CPU, 0.000s wall-clock]\n",
      "Building translation key... [0.000s CPU, 0.000s wall-clock]\n",
      "Computing fact groups: [0.010s CPU, 0.007s wall-clock]\n",
      "Building STRIPS to SAS dictionary... [0.000s CPU, 0.000s wall-clock]\n",
      "Building dictionary for full mutex groups... [0.000s CPU, 0.000s wall-clock]\n",
      "Building mutex information...\n",
      "Building mutex information: [0.000s CPU, 0.000s wall-clock]\n",
      "Translating task...\n",
      "Processing axioms...\n",
      "Simplifying axioms... [0.000s CPU, 0.000s wall-clock]\n",
      "Translator axioms removed by simplifying: 0\n",
      "Computing negative axioms... [0.000s CPU, 0.000s wall-clock]\n",
      "Processing axioms: [0.000s CPU, 0.001s wall-clock]\n",
      "Translating task: [0.000s CPU, 0.006s wall-clock]\n",
      "0 effect conditions simplified\n",
      "0 implied preconditions added\n",
      "Detecting unreachable propositions...\n",
      "0 operators removed\n",
      "8 axioms removed\n",
      "9 propositions removed\n",
      "Detecting unreachable propositions: [0.010s CPU, 0.004s wall-clock]\n",
      "Reordering and filtering variables...\n",
      "10 of 10 variables necessary.\n",
      "0 of 17 mutex groups necessary.\n",
      "56 of 56 operators necessary.\n",
      "17 of 17 axiom rules necessary.\n",
      "Reordering and filtering variables: [0.000s CPU, 0.002s wall-clock]\n",
      "Translator variables: 10\n",
      "Translator derived variables: 1\n",
      "Translator facts: 36\n",
      "Translator goal facts: 1\n",
      "Translator mutex groups: 0\n",
      "Translator total mutex groups size: 0\n",
      "Translator operators: 56\n",
      "Translator axioms: 17\n",
      "Translator task size: 272\n",
      "Translator peak memory: 34500 KB\n",
      "Writing output... [0.000s CPU, 0.002s wall-clock]\n",
      "Done! [0.040s CPU, 0.045s wall-clock]\n",
      "translate exit code: 0\n",
      "\n",
      "INFO     Running search (release).\n",
      "INFO     search stdin: output.sas\n",
      "INFO     search time limit: None\n",
      "INFO     search memory limit: None\n",
      "INFO     search command line string: /home/roeger/repos/downward/up-fast-downward-env/lib/python3.10/site-packages/up_fast_downward/downward/builds/release/bin/downward --search 'astar(lmcut())' --internal-plan-file /tmp/tmp7chjfoti/plan.txt < output.sas\n",
      "[t=0.00699611s, 10984 KB] reading input...\n",
      "[t=0.0085739s, 10984 KB] done reading input!\n",
      "This configuration does not support axioms!\n",
      "Peak memory: 11240 KB\n",
      "Remove intermediate file output.sas\n",
      "search exit code: 34\n",
      "Terminating.\n",
      "\n",
      "Tried to use unsupported feature.\n",
      "Driver aborting after search\n",
      "INFO     Planner time: 0.35s\n",
      "PlanGenerationResultStatus.INTERNAL_ERROR\n",
      "No plan found.\n"
     ]
    }
   ],
   "source": [
    "with OneshotPlanner(name='fast-downward-opt') as planner:\n",
    "    result = planner.solve(small_problem, output_stream=sys.stdout)\n",
    "    if result.status == up.engines.PlanGenerationResultStatus.SOLVED_OPTIMALLY:\n",
    "        print(\"Fast Downward returned: %s\" % result.plan)\n",
    "    else:\n",
    "        print(result.status)\n",
    "        print(\"No plan found.\")"
   ]
  },
  {
   "cell_type": "markdown",
   "id": "8f2210fc",
   "metadata": {},
   "source": [
    "We see that the ``result.status`` is ``PlanGenerationResultStatus.INTERNAL_ERROR``. Looking at the log, we see that we ``Tried to use unsupported feature``. The sentence ``This configuration does not support axioms!`` indicates the details but these are admittedly not obvious (Fast Downward internally replaces all-quantified goals with axioms)."
   ]
  },
  {
   "cell_type": "markdown",
   "id": "b41b0c79",
   "metadata": {},
   "source": [
    "To nevertheless use the optimal engine on this task, we can combine it with a compiler from the unified planning library, which removes quantifications:"
   ]
  },
  {
   "cell_type": "code",
   "execution_count": 16,
   "id": "f5707bdd",
   "metadata": {},
   "outputs": [
    {
     "name": "stdout",
     "output_type": "stream",
     "text": [
      "Fast Downward returned: [load_0(parcel7, loc1), move_0(loc1, loc0), unload_0(parcel7, loc0), load_0(parcel5, loc0), move_0(loc0, loc1), move_0(loc1, loc9), load_0(parcel6, loc9), load_0(parcel3, loc9), load_0(parcel1, loc9), move_0(loc9, loc8), load_0(parcel4, loc8), move_0(loc8, loc6), unload_0(parcel3, loc6), move_0(loc6, loc5), unload_0(parcel5, loc5), load_0(parcel2, loc5), move_0(loc5, loc2), unload_0(parcel1, loc2), move_0(loc2, loc4), unload_0(parcel6, loc4), unload_0(parcel2, loc4), move_0(loc4, loc3), load_0(parcel0, loc3), move_0(loc3, loc1), move_0(loc1, loc9), unload_0(parcel4, loc9), unload_0(parcel0, loc9)]\n"
     ]
    }
   ],
   "source": [
    "with Compiler(\n",
    "        problem_kind = small_problem.kind, \n",
    "        compilation_kind = CompilationKind.QUANTIFIERS_REMOVING\n",
    "    ) as quantifiers_remover:\n",
    "    qr_result = quantifiers_remover.compile(\n",
    "        small_problem, \n",
    "        CompilationKind.QUANTIFIERS_REMOVING\n",
    "    )\n",
    "    transformed_problem = qr_result.problem\n",
    "    \n",
    "    with OneshotPlanner(name='fast-downward-opt') as planner:\n",
    "        result = planner.solve(transformed_problem)\n",
    "        if result.status == up.engines.PlanGenerationResultStatus.SOLVED_OPTIMALLY:\n",
    "            print(\"Fast Downward returned: %s\" % result.plan)\n",
    "        else:\n",
    "            print(result.status)\n",
    "            print(\"No plan found.\")\n",
    "    "
   ]
  },
  {
   "cell_type": "markdown",
   "id": "e45ab282",
   "metadata": {},
   "source": [
    "## Grounding"
   ]
  },
  {
   "cell_type": "markdown",
   "id": "fb29da35",
   "metadata": {},
   "source": [
    "Fast Downward also provides the compilation operation mode for grounding. Internally, Fast Downward does not only ground the instance but also normalizes the actions into a certain syntactic form. We provide two variants:\n",
    "- The ``fast-downward-reachability-grounder`` uses the reachability analysis of Fast Downward to determine what actions needs to be instantiated but preserves their structure.\n",
    "- The ``FastDownwardGrounder`` returns the normalized grounded task as used within Fast Downward.\n"
   ]
  },
  {
   "cell_type": "markdown",
   "id": "e8cdb4a8",
   "metadata": {},
   "source": [
    "**Important advice**: Do *not* ground the task with the UP and afterwards solve it with the FastDownard solver engines. Some parts of Fast Downward (the invariant synthesis) are much faster with a schematic representation of operators."
   ]
  },
  {
   "cell_type": "markdown",
   "id": "632a2b4c",
   "metadata": {},
   "source": [
    "To illustrate how the grounders are used, we create a really small problem (the ground problem is exponentially larger and we want to keep output readable)."
   ]
  },
  {
   "cell_type": "code",
   "execution_count": 17,
   "id": "b091603e",
   "metadata": {},
   "outputs": [
    {
     "name": "stdout",
     "output_type": "stream",
     "text": [
      "Jobs:\n",
      "Parcel 0 from location 1 to location 0\n",
      "Parcel 1 from location 2 to location 1\n",
      "The truck is at location 0\n"
     ]
    },
    {
     "data": {
      "image/png": "[encoded data removed]",
      "text/plain": [
       "<Figure size 432x288 with 1 Axes>"
      ]
     },
     "metadata": {},
     "output_type": "display_data"
    }
   ],
   "source": [
    "tiny_graph, tiny_jobs, tiny_truck_location = generate_problem(4, 2) # 4 locations, 2 parcels\n",
    "tiny_problem = get_planning_task(tiny_graph, tiny_jobs, tiny_truck_location)\n",
    "nx.draw_networkx(tiny_graph, with_labels=True) # uncomment if you do not have matplotlib\n",
    "print(\"Jobs:\")\n",
    "for parcel_id, (origin, destination) in enumerate(tiny_jobs):\n",
    "    print('Parcel', parcel_id, 'from location', origin,\n",
    "          'to location', destination) \n",
    "print('The truck is at location', tiny_truck_location)"
   ]
  },
  {
   "cell_type": "code",
   "execution_count": 18,
   "id": "a2081290",
   "metadata": {},
   "outputs": [
    {
     "name": "stdout",
     "output_type": "stream",
     "text": [
      "Generating Datalog program... [0.000s CPU, 0.002s wall-clock]\n",
      "Normalizing Datalog program...\n",
      "Normalizing Datalog program: [0.010s CPU, 0.006s wall-clock]\n",
      "Preparing model... [0.010s CPU, 0.003s wall-clock]\n",
      "Generated 14 rules.\n",
      "Computing model... [0.000s CPU, 0.009s wall-clock]\n",
      "59 relevant atoms\n",
      "30 auxiliary atoms\n",
      "89 final queue length\n",
      "98 total queue pushes\n"
     ]
    }
   ],
   "source": [
    "with Compiler(name = \"fast-downward-reachability-grounder\") as grounder:\n",
    "    grounder_result = grounder.compile(\n",
    "        tiny_problem, \n",
    "        CompilationKind.GROUNDING\n",
    "    )\n",
    "    ground_problem = grounder_result.problem\n"
   ]
  },
  {
   "cell_type": "markdown",
   "id": "fdccfc60",
   "metadata": {},
   "source": [
    "If we now have a look at the actions of the ground problem, we see that the actions do not have parameters anymore but instead we have actions for the truckmovements between each two actions and loading and unloading each parcel at their respective origin and goal locations."
   ]
  },
  {
   "cell_type": "code",
   "execution_count": 19,
   "id": "ca76f439",
   "metadata": {},
   "outputs": [
    {
     "name": "stdout",
     "output_type": "stream",
     "text": [
      "[action move_loc0_loc1 {\n",
      "    preconditions = [\n",
      "      truck_at(loc0)\n",
      "    ]\n",
      "    effects = [\n",
      "      truck_at(loc0) := false\n",
      "      truck_at(loc1) := true\n",
      "    ]\n",
      "  }, action move_loc0_loc2 {\n",
      "    preconditions = [\n",
      "      truck_at(loc0)\n",
      "    ]\n",
      "    effects = [\n",
      "      truck_at(loc0) := false\n",
      "      truck_at(loc2) := true\n",
      "    ]\n",
      "  }, action move_loc0_loc3 {\n",
      "    preconditions = [\n",
      "      truck_at(loc0)\n",
      "    ]\n",
      "    effects = [\n",
      "      truck_at(loc0) := false\n",
      "      truck_at(loc3) := true\n",
      "    ]\n",
      "  }, action move_loc1_loc0 {\n",
      "    preconditions = [\n",
      "      truck_at(loc1)\n",
      "    ]\n",
      "    effects = [\n",
      "      truck_at(loc1) := false\n",
      "      truck_at(loc0) := true\n",
      "    ]\n",
      "  }, action move_loc1_loc2 {\n",
      "    preconditions = [\n",
      "      truck_at(loc1)\n",
      "    ]\n",
      "    effects = [\n",
      "      truck_at(loc1) := false\n",
      "      truck_at(loc2) := true\n",
      "    ]\n",
      "  }, action move_loc1_loc3 {\n",
      "    preconditions = [\n",
      "      truck_at(loc1)\n",
      "    ]\n",
      "    effects = [\n",
      "      truck_at(loc1) := false\n",
      "      truck_at(loc3) := true\n",
      "    ]\n",
      "  }, action move_loc2_loc0 {\n",
      "    preconditions = [\n",
      "      truck_at(loc2)\n",
      "    ]\n",
      "    effects = [\n",
      "      truck_at(loc2) := false\n",
      "      truck_at(loc0) := true\n",
      "    ]\n",
      "  }, action move_loc2_loc1 {\n",
      "    preconditions = [\n",
      "      truck_at(loc2)\n",
      "    ]\n",
      "    effects = [\n",
      "      truck_at(loc2) := false\n",
      "      truck_at(loc1) := true\n",
      "    ]\n",
      "  }, action move_loc2_loc3 {\n",
      "    preconditions = [\n",
      "      truck_at(loc2)\n",
      "    ]\n",
      "    effects = [\n",
      "      truck_at(loc2) := false\n",
      "      truck_at(loc3) := true\n",
      "    ]\n",
      "  }, action move_loc3_loc0 {\n",
      "    preconditions = [\n",
      "      truck_at(loc3)\n",
      "    ]\n",
      "    effects = [\n",
      "      truck_at(loc3) := false\n",
      "      truck_at(loc0) := true\n",
      "    ]\n",
      "  }, action move_loc3_loc1 {\n",
      "    preconditions = [\n",
      "      truck_at(loc3)\n",
      "    ]\n",
      "    effects = [\n",
      "      truck_at(loc3) := false\n",
      "      truck_at(loc1) := true\n",
      "    ]\n",
      "  }, action move_loc3_loc2 {\n",
      "    preconditions = [\n",
      "      truck_at(loc3)\n",
      "    ]\n",
      "    effects = [\n",
      "      truck_at(loc3) := false\n",
      "      truck_at(loc2) := true\n",
      "    ]\n",
      "  }, action load_parcel0_loc1 {\n",
      "    preconditions = [\n",
      "      truck_at(loc1)\n",
      "      parcel_at(parcel0, loc1)\n",
      "    ]\n",
      "    effects = [\n",
      "      parcel_at(parcel0, loc1) := false\n",
      "      parcel_loaded(parcel0) := true\n",
      "    ]\n",
      "  }, action load_parcel1_loc2 {\n",
      "    preconditions = [\n",
      "      truck_at(loc2)\n",
      "      parcel_at(parcel1, loc2)\n",
      "    ]\n",
      "    effects = [\n",
      "      parcel_at(parcel1, loc2) := false\n",
      "      parcel_loaded(parcel1) := true\n",
      "    ]\n",
      "  }, action unload_parcel0_loc0 {\n",
      "    preconditions = [\n",
      "      truck_at(loc0)\n",
      "      parcel_loaded(parcel0)\n",
      "    ]\n",
      "    effects = [\n",
      "      delivered(parcel0) := true\n",
      "      parcel_loaded(parcel0) := false\n",
      "    ]\n",
      "  }, action unload_parcel1_loc1 {\n",
      "    preconditions = [\n",
      "      truck_at(loc1)\n",
      "      parcel_loaded(parcel1)\n",
      "    ]\n",
      "    effects = [\n",
      "      delivered(parcel1) := true\n",
      "      parcel_loaded(parcel1) := false\n",
      "    ]\n",
      "  }]\n"
     ]
    }
   ],
   "source": [
    "print(ground_problem.actions)"
   ]
  },
  {
   "cell_type": "markdown",
   "id": "8d850f1f",
   "metadata": {},
   "source": [
    "We can now solve the ground problem and translate the plan back to one for the original problem:"
   ]
  },
  {
   "cell_type": "code",
   "execution_count": 20,
   "id": "2b390c96",
   "metadata": {},
   "outputs": [
    {
     "name": "stdout",
     "output_type": "stream",
     "text": [
      "We found the following plan for the ground instance:\n",
      "[move_loc0_loc2, load_parcel1_loc2, move_loc2_loc0, move_loc0_loc1, unload_parcel1_loc1, load_parcel0_loc1, move_loc1_loc0, unload_parcel0_loc0]\n",
      "\n",
      "This corresponds to the following plan for the original problem:\n",
      "[move(loc0, loc2), load(parcel1, loc2), move(loc2, loc0), move(loc0, loc1), unload(parcel1, loc1), load(parcel0, loc1), move(loc1, loc0), unload(parcel0, loc0)]\n",
      "\n",
      "Can we verify this?\n",
      "Yes!!\n"
     ]
    }
   ],
   "source": [
    "with OneshotPlanner(name = \"fast-downward\") as planner:\n",
    "    ground_plan = planner.solve(ground_problem).plan\n",
    "print(\"We found the following plan for the ground instance:\")\n",
    "print(ground_plan)\n",
    "\n",
    "# Translate plan back to one for the original problem\n",
    "plan = ground_plan.replace_action_instances(grounder_result.map_back_action_instance)\n",
    "\n",
    "print(\"\\nThis corresponds to the following plan for the original problem:\")\n",
    "print(plan)\n",
    "\n",
    "# Verify that it is indeed a plan for the original problem, using the plan validator operation mode of the UP\n",
    "print(\"\\nCan we verify this?\")\n",
    "from unified_planning.engines import ValidationResultStatus\n",
    "with PlanValidator(problem_kind = tiny_problem.kind) as validator:\n",
    "    if validator.validate(tiny_problem, plan).status == ValidationResultStatus.VALID:\n",
    "        print(\"Yes!!\")\n",
    "    else:\n",
    "        print(\"No?!? This should not happen.\")"
   ]
  }
 ],
 "metadata": {
  "kernelspec": {
   "display_name": "Python 3 (ipykernel)",
   "language": "python",
   "name": "python3"
  },
  "language_info": {
   "codemirror_mode": {
    "name": "ipython",
    "version": 3
   },
   "file_extension": ".py",
   "mimetype": "text/x-python",
   "name": "python",
   "nbconvert_exporter": "python",
   "pygments_lexer": "ipython3",
   "version": "3.10.6"
  }
 },
 "nbformat": 4,
 "nbformat_minor": 5
}
